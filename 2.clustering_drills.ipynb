{
 "cells": [
  {
   "cell_type": "markdown",
   "metadata": {},
   "source": [
    "# Clustering drills\n",
    "\n",
    "Welcome, traveller, you have arrived in the drills section of the clustering chapter. Here, you can practice some clustering techniques.\n",
    "\n",
    "If you have not checked out the [example](./1.clustering_with_sklearn.ipynb), I advise you do so. We will use the same [pokemon](./assets/pokemon.csv) dataset to further our journey."
   ]
  },
  {
   "cell_type": "markdown",
   "metadata": {},
   "source": [
    "## 1. Multi-dimensional data\n",
    "\n",
    "in the example, we wanted to determine the **most physically diverse** [pokemon](./assets/pokemon.csv) team there is. To do so, we clustered the pokemon into groups according to their **weight** and **height** using **k-means**.\n",
    "\n",
    "Is this really the most diverse team out there though? The pokemon selected there are still similar in terms of **combat abilities**, and we have this data available.\n",
    "\n",
    "For the first drill, I want you to:\n",
    "   - cluster the pokemon into 6 groups according to similar:\n",
    "       - height\n",
    "       - weight\n",
    "       - hp\n",
    "       - attack\n",
    "       - defense\n",
    "       - speed\n",
    "   - visualise these multidimensional clusters using a scatter plot matrix\n",
    "   - determine the most dissimilar pokemon team from these clusters\n",
    "   \n",
    "So that you have **6-dimensional** clusters containing **diverse** pokemon groups from which you can determine your pokemon team similar to the method described in the example."
   ]
  },
  {
   "cell_type": "markdown",
   "metadata": {},
   "source": [
    "# Basics"
   ]
  },
  {
   "cell_type": "markdown",
   "metadata": {},
   "source": [
    "### 0.0 Importing Packages"
   ]
  },
  {
   "cell_type": "code",
   "execution_count": 1,
   "metadata": {},
   "outputs": [],
   "source": [
    "# Importing Packages\n",
    "import pandas as pd\n",
    "import numpy as np\n",
    "import matplotlib.pyplot as plt\n",
    "%matplotlib inline"
   ]
  },
  {
   "cell_type": "code",
   "execution_count": 2,
   "metadata": {},
   "outputs": [],
   "source": [
    "from fancyimpute import KNN,knn\n",
    "from sklearn.preprocessing import StandardScaler"
   ]
  },
  {
   "cell_type": "code",
   "execution_count": 3,
   "metadata": {},
   "outputs": [],
   "source": [
    "import seaborn as sns"
   ]
  },
  {
   "cell_type": "markdown",
   "metadata": {},
   "source": [
    "### 0.1 Reading File"
   ]
  },
  {
   "cell_type": "code",
   "execution_count": 4,
   "metadata": {},
   "outputs": [],
   "source": [
    "df = pd.read_csv('pokemon.csv')"
   ]
  },
  {
   "cell_type": "markdown",
   "metadata": {},
   "source": [
    "### 0.2 Warming up"
   ]
  },
  {
   "cell_type": "code",
   "execution_count": 5,
   "metadata": {},
   "outputs": [
    {
     "data": {
      "text/plain": [
       "Index(['abilities', 'against_bug', 'against_dark', 'against_dragon',\n",
       "       'against_electric', 'against_fairy', 'against_fight', 'against_fire',\n",
       "       'against_flying', 'against_ghost', 'against_grass', 'against_ground',\n",
       "       'against_ice', 'against_normal', 'against_poison', 'against_psychic',\n",
       "       'against_rock', 'against_steel', 'against_water', 'attack',\n",
       "       'base_egg_steps', 'base_happiness', 'base_total', 'capture_rate',\n",
       "       'classfication', 'defense', 'experience_growth', 'height_m', 'hp',\n",
       "       'japanese_name', 'name', 'percentage_male', 'pokedex_number',\n",
       "       'sp_attack', 'sp_defense', 'speed', 'type1', 'type2', 'weight_kg',\n",
       "       'generation', 'is_legendary'],\n",
       "      dtype='object')"
      ]
     },
     "execution_count": 5,
     "metadata": {},
     "output_type": "execute_result"
    }
   ],
   "source": [
    "df.columns"
   ]
  },
  {
   "cell_type": "code",
   "execution_count": 6,
   "metadata": {},
   "outputs": [
    {
     "data": {
      "text/plain": [
       "abilities              0\n",
       "against_bug            0\n",
       "against_dark           0\n",
       "against_dragon         0\n",
       "against_electric       0\n",
       "against_fairy          0\n",
       "against_fight          0\n",
       "against_fire           0\n",
       "against_flying         0\n",
       "against_ghost          0\n",
       "against_grass          0\n",
       "against_ground         0\n",
       "against_ice            0\n",
       "against_normal         0\n",
       "against_poison         0\n",
       "against_psychic        0\n",
       "against_rock           0\n",
       "against_steel          0\n",
       "against_water          0\n",
       "attack                 0\n",
       "base_egg_steps         0\n",
       "base_happiness         0\n",
       "base_total             0\n",
       "capture_rate           0\n",
       "classfication          0\n",
       "defense                0\n",
       "experience_growth      0\n",
       "height_m              20\n",
       "hp                     0\n",
       "japanese_name          0\n",
       "name                   0\n",
       "percentage_male       98\n",
       "pokedex_number         0\n",
       "sp_attack              0\n",
       "sp_defense             0\n",
       "speed                  0\n",
       "type1                  0\n",
       "type2                384\n",
       "weight_kg             20\n",
       "generation             0\n",
       "is_legendary           0\n",
       "dtype: int64"
      ]
     },
     "execution_count": 6,
     "metadata": {},
     "output_type": "execute_result"
    }
   ],
   "source": [
    "df.isnull().sum()"
   ]
  },
  {
   "cell_type": "code",
   "execution_count": 7,
   "metadata": {},
   "outputs": [],
   "source": [
    "pokemon_metric = df.loc[:,['height_m',\n",
    "'weight_kg',\n",
    "'hp',\n",
    "'attack',\n",
    "'defense',\n",
    "'speed']]"
   ]
  },
  {
   "cell_type": "code",
   "execution_count": 8,
   "metadata": {},
   "outputs": [
    {
     "data": {
      "text/plain": [
       "height_m     20\n",
       "weight_kg    20\n",
       "hp            0\n",
       "attack        0\n",
       "defense       0\n",
       "speed         0\n",
       "dtype: int64"
      ]
     },
     "execution_count": 8,
     "metadata": {},
     "output_type": "execute_result"
    }
   ],
   "source": [
    "pokemon_metric.isnull().sum()"
   ]
  },
  {
   "cell_type": "code",
   "execution_count": 9,
   "metadata": {},
   "outputs": [
    {
     "data": {
      "text/html": [
       "<div>\n",
       "<style scoped>\n",
       "    .dataframe tbody tr th:only-of-type {\n",
       "        vertical-align: middle;\n",
       "    }\n",
       "\n",
       "    .dataframe tbody tr th {\n",
       "        vertical-align: top;\n",
       "    }\n",
       "\n",
       "    .dataframe thead th {\n",
       "        text-align: right;\n",
       "    }\n",
       "</style>\n",
       "<table border=\"1\" class=\"dataframe\">\n",
       "  <thead>\n",
       "    <tr style=\"text-align: right;\">\n",
       "      <th></th>\n",
       "      <th>weight_kg</th>\n",
       "      <th>height_m</th>\n",
       "    </tr>\n",
       "  </thead>\n",
       "  <tbody>\n",
       "    <tr>\n",
       "      <th>0</th>\n",
       "      <td>6.9</td>\n",
       "      <td>0.7</td>\n",
       "    </tr>\n",
       "    <tr>\n",
       "      <th>1</th>\n",
       "      <td>13.0</td>\n",
       "      <td>1.0</td>\n",
       "    </tr>\n",
       "    <tr>\n",
       "      <th>2</th>\n",
       "      <td>100.0</td>\n",
       "      <td>2.0</td>\n",
       "    </tr>\n",
       "    <tr>\n",
       "      <th>3</th>\n",
       "      <td>8.5</td>\n",
       "      <td>0.6</td>\n",
       "    </tr>\n",
       "    <tr>\n",
       "      <th>4</th>\n",
       "      <td>19.0</td>\n",
       "      <td>1.1</td>\n",
       "    </tr>\n",
       "    <tr>\n",
       "      <th>...</th>\n",
       "      <td>...</td>\n",
       "      <td>...</td>\n",
       "    </tr>\n",
       "    <tr>\n",
       "      <th>796</th>\n",
       "      <td>999.9</td>\n",
       "      <td>9.2</td>\n",
       "    </tr>\n",
       "    <tr>\n",
       "      <th>797</th>\n",
       "      <td>0.1</td>\n",
       "      <td>0.3</td>\n",
       "    </tr>\n",
       "    <tr>\n",
       "      <th>798</th>\n",
       "      <td>888.0</td>\n",
       "      <td>5.5</td>\n",
       "    </tr>\n",
       "    <tr>\n",
       "      <th>799</th>\n",
       "      <td>230.0</td>\n",
       "      <td>2.4</td>\n",
       "    </tr>\n",
       "    <tr>\n",
       "      <th>800</th>\n",
       "      <td>80.5</td>\n",
       "      <td>1.0</td>\n",
       "    </tr>\n",
       "  </tbody>\n",
       "</table>\n",
       "<p>801 rows × 2 columns</p>\n",
       "</div>"
      ],
      "text/plain": [
       "     weight_kg  height_m\n",
       "0          6.9       0.7\n",
       "1         13.0       1.0\n",
       "2        100.0       2.0\n",
       "3          8.5       0.6\n",
       "4         19.0       1.1\n",
       "..         ...       ...\n",
       "796      999.9       9.2\n",
       "797        0.1       0.3\n",
       "798      888.0       5.5\n",
       "799      230.0       2.4\n",
       "800       80.5       1.0\n",
       "\n",
       "[801 rows x 2 columns]"
      ]
     },
     "execution_count": 9,
     "metadata": {},
     "output_type": "execute_result"
    }
   ],
   "source": [
    "pokemon_metric[['weight_kg','height_m']]"
   ]
  },
  {
   "cell_type": "code",
   "execution_count": 10,
   "metadata": {},
   "outputs": [
    {
     "data": {
      "text/html": [
       "<div>\n",
       "<style scoped>\n",
       "    .dataframe tbody tr th:only-of-type {\n",
       "        vertical-align: middle;\n",
       "    }\n",
       "\n",
       "    .dataframe tbody tr th {\n",
       "        vertical-align: top;\n",
       "    }\n",
       "\n",
       "    .dataframe thead th {\n",
       "        text-align: right;\n",
       "    }\n",
       "</style>\n",
       "<table border=\"1\" class=\"dataframe\">\n",
       "  <thead>\n",
       "    <tr style=\"text-align: right;\">\n",
       "      <th></th>\n",
       "      <th>height_m</th>\n",
       "      <th>weight_kg</th>\n",
       "      <th>hp</th>\n",
       "      <th>attack</th>\n",
       "      <th>defense</th>\n",
       "      <th>speed</th>\n",
       "    </tr>\n",
       "  </thead>\n",
       "  <tbody>\n",
       "    <tr>\n",
       "      <th>18</th>\n",
       "      <td>NaN</td>\n",
       "      <td>NaN</td>\n",
       "      <td>30</td>\n",
       "      <td>56</td>\n",
       "      <td>35</td>\n",
       "      <td>72</td>\n",
       "    </tr>\n",
       "    <tr>\n",
       "      <th>19</th>\n",
       "      <td>NaN</td>\n",
       "      <td>NaN</td>\n",
       "      <td>75</td>\n",
       "      <td>71</td>\n",
       "      <td>70</td>\n",
       "      <td>77</td>\n",
       "    </tr>\n",
       "    <tr>\n",
       "      <th>25</th>\n",
       "      <td>NaN</td>\n",
       "      <td>NaN</td>\n",
       "      <td>60</td>\n",
       "      <td>85</td>\n",
       "      <td>50</td>\n",
       "      <td>110</td>\n",
       "    </tr>\n",
       "    <tr>\n",
       "      <th>26</th>\n",
       "      <td>NaN</td>\n",
       "      <td>NaN</td>\n",
       "      <td>50</td>\n",
       "      <td>75</td>\n",
       "      <td>90</td>\n",
       "      <td>40</td>\n",
       "    </tr>\n",
       "    <tr>\n",
       "      <th>27</th>\n",
       "      <td>NaN</td>\n",
       "      <td>NaN</td>\n",
       "      <td>75</td>\n",
       "      <td>100</td>\n",
       "      <td>120</td>\n",
       "      <td>65</td>\n",
       "    </tr>\n",
       "    <tr>\n",
       "      <th>36</th>\n",
       "      <td>NaN</td>\n",
       "      <td>NaN</td>\n",
       "      <td>38</td>\n",
       "      <td>41</td>\n",
       "      <td>40</td>\n",
       "      <td>65</td>\n",
       "    </tr>\n",
       "    <tr>\n",
       "      <th>37</th>\n",
       "      <td>NaN</td>\n",
       "      <td>NaN</td>\n",
       "      <td>73</td>\n",
       "      <td>67</td>\n",
       "      <td>75</td>\n",
       "      <td>109</td>\n",
       "    </tr>\n",
       "    <tr>\n",
       "      <th>49</th>\n",
       "      <td>NaN</td>\n",
       "      <td>NaN</td>\n",
       "      <td>10</td>\n",
       "      <td>55</td>\n",
       "      <td>30</td>\n",
       "      <td>90</td>\n",
       "    </tr>\n",
       "    <tr>\n",
       "      <th>50</th>\n",
       "      <td>NaN</td>\n",
       "      <td>NaN</td>\n",
       "      <td>35</td>\n",
       "      <td>100</td>\n",
       "      <td>60</td>\n",
       "      <td>110</td>\n",
       "    </tr>\n",
       "    <tr>\n",
       "      <th>51</th>\n",
       "      <td>NaN</td>\n",
       "      <td>NaN</td>\n",
       "      <td>40</td>\n",
       "      <td>35</td>\n",
       "      <td>35</td>\n",
       "      <td>90</td>\n",
       "    </tr>\n",
       "  </tbody>\n",
       "</table>\n",
       "</div>"
      ],
      "text/plain": [
       "    height_m  weight_kg  hp  attack  defense  speed\n",
       "18       NaN        NaN  30      56       35     72\n",
       "19       NaN        NaN  75      71       70     77\n",
       "25       NaN        NaN  60      85       50    110\n",
       "26       NaN        NaN  50      75       90     40\n",
       "27       NaN        NaN  75     100      120     65\n",
       "36       NaN        NaN  38      41       40     65\n",
       "37       NaN        NaN  73      67       75    109\n",
       "49       NaN        NaN  10      55       30     90\n",
       "50       NaN        NaN  35     100       60    110\n",
       "51       NaN        NaN  40      35       35     90"
      ]
     },
     "execution_count": 10,
     "metadata": {},
     "output_type": "execute_result"
    }
   ],
   "source": [
    "pokemon_metric[pokemon_metric['height_m'].isnull() | pokemon_metric['weight_kg'].isnull()].head(10)\n"
   ]
  },
  {
   "cell_type": "markdown",
   "metadata": {},
   "source": [
    "# 1.0 Preprocessing Steps "
   ]
  },
  {
   "cell_type": "code",
   "execution_count": 11,
   "metadata": {},
   "outputs": [],
   "source": [
    "pokemon_metric[pokemon_metric['height_m'].isnull() | pokemon_metric['weight_kg'].isnull()] = KNN(k=10, verbose=0).fit_transform(pokemon_metric[pokemon_metric['height_m'].isnull() | pokemon_metric['weight_kg'].isnull()])"
   ]
  },
  {
   "cell_type": "code",
   "execution_count": 12,
   "metadata": {},
   "outputs": [
    {
     "data": {
      "text/plain": [
       "height_m     0\n",
       "weight_kg    0\n",
       "hp           0\n",
       "attack       0\n",
       "defense      0\n",
       "speed        0\n",
       "dtype: int64"
      ]
     },
     "execution_count": 12,
     "metadata": {},
     "output_type": "execute_result"
    }
   ],
   "source": [
    "pokemon_metric.isnull().sum()"
   ]
  },
  {
   "cell_type": "code",
   "execution_count": 13,
   "metadata": {},
   "outputs": [],
   "source": [
    "pokemon_std=(pokemon_metric-pokemon_metric.mean())/pokemon_metric.std()"
   ]
  },
  {
   "cell_type": "markdown",
   "metadata": {},
   "source": [
    "# 2.0 Clustering"
   ]
  },
  {
   "cell_type": "code",
   "execution_count": 14,
   "metadata": {},
   "outputs": [],
   "source": [
    "from sklearn.cluster import KMeans\n",
    "kmeans = KMeans(n_clusters=6, init='k-means++').fit(pokemon_std)"
   ]
  },
  {
   "cell_type": "code",
   "execution_count": 15,
   "metadata": {},
   "outputs": [],
   "source": [
    "cluster_centers = kmeans.cluster_centers_\n",
    "cluster_label = pd.Series(kmeans.labels_, name = 'cluster')"
   ]
  },
  {
   "cell_type": "code",
   "execution_count": 16,
   "metadata": {},
   "outputs": [],
   "source": [
    "pokemon_std = pokemon_std.join(cluster_label.to_frame())"
   ]
  },
  {
   "cell_type": "code",
   "execution_count": 17,
   "metadata": {},
   "outputs": [
    {
     "data": {
      "text/html": [
       "<div>\n",
       "<style scoped>\n",
       "    .dataframe tbody tr th:only-of-type {\n",
       "        vertical-align: middle;\n",
       "    }\n",
       "\n",
       "    .dataframe tbody tr th {\n",
       "        vertical-align: top;\n",
       "    }\n",
       "\n",
       "    .dataframe thead th {\n",
       "        text-align: right;\n",
       "    }\n",
       "</style>\n",
       "<table border=\"1\" class=\"dataframe\">\n",
       "  <thead>\n",
       "    <tr style=\"text-align: right;\">\n",
       "      <th></th>\n",
       "      <th>height_m</th>\n",
       "      <th>weight_kg</th>\n",
       "      <th>hp</th>\n",
       "      <th>attack</th>\n",
       "      <th>defense</th>\n",
       "      <th>speed</th>\n",
       "    </tr>\n",
       "  </thead>\n",
       "  <tbody>\n",
       "    <tr>\n",
       "      <th>0</th>\n",
       "      <td>0.7</td>\n",
       "      <td>6.9</td>\n",
       "      <td>45.0</td>\n",
       "      <td>49.0</td>\n",
       "      <td>49.0</td>\n",
       "      <td>45.0</td>\n",
       "    </tr>\n",
       "    <tr>\n",
       "      <th>1</th>\n",
       "      <td>1.0</td>\n",
       "      <td>13.0</td>\n",
       "      <td>60.0</td>\n",
       "      <td>62.0</td>\n",
       "      <td>63.0</td>\n",
       "      <td>60.0</td>\n",
       "    </tr>\n",
       "    <tr>\n",
       "      <th>2</th>\n",
       "      <td>2.0</td>\n",
       "      <td>100.0</td>\n",
       "      <td>80.0</td>\n",
       "      <td>100.0</td>\n",
       "      <td>123.0</td>\n",
       "      <td>80.0</td>\n",
       "    </tr>\n",
       "    <tr>\n",
       "      <th>3</th>\n",
       "      <td>0.6</td>\n",
       "      <td>8.5</td>\n",
       "      <td>39.0</td>\n",
       "      <td>52.0</td>\n",
       "      <td>43.0</td>\n",
       "      <td>65.0</td>\n",
       "    </tr>\n",
       "    <tr>\n",
       "      <th>4</th>\n",
       "      <td>1.1</td>\n",
       "      <td>19.0</td>\n",
       "      <td>58.0</td>\n",
       "      <td>64.0</td>\n",
       "      <td>58.0</td>\n",
       "      <td>80.0</td>\n",
       "    </tr>\n",
       "    <tr>\n",
       "      <th>...</th>\n",
       "      <td>...</td>\n",
       "      <td>...</td>\n",
       "      <td>...</td>\n",
       "      <td>...</td>\n",
       "      <td>...</td>\n",
       "      <td>...</td>\n",
       "    </tr>\n",
       "    <tr>\n",
       "      <th>796</th>\n",
       "      <td>9.2</td>\n",
       "      <td>999.9</td>\n",
       "      <td>97.0</td>\n",
       "      <td>101.0</td>\n",
       "      <td>103.0</td>\n",
       "      <td>61.0</td>\n",
       "    </tr>\n",
       "    <tr>\n",
       "      <th>797</th>\n",
       "      <td>0.3</td>\n",
       "      <td>0.1</td>\n",
       "      <td>59.0</td>\n",
       "      <td>181.0</td>\n",
       "      <td>131.0</td>\n",
       "      <td>109.0</td>\n",
       "    </tr>\n",
       "    <tr>\n",
       "      <th>798</th>\n",
       "      <td>5.5</td>\n",
       "      <td>888.0</td>\n",
       "      <td>223.0</td>\n",
       "      <td>101.0</td>\n",
       "      <td>53.0</td>\n",
       "      <td>43.0</td>\n",
       "    </tr>\n",
       "    <tr>\n",
       "      <th>799</th>\n",
       "      <td>2.4</td>\n",
       "      <td>230.0</td>\n",
       "      <td>97.0</td>\n",
       "      <td>107.0</td>\n",
       "      <td>101.0</td>\n",
       "      <td>79.0</td>\n",
       "    </tr>\n",
       "    <tr>\n",
       "      <th>800</th>\n",
       "      <td>1.0</td>\n",
       "      <td>80.5</td>\n",
       "      <td>80.0</td>\n",
       "      <td>95.0</td>\n",
       "      <td>115.0</td>\n",
       "      <td>65.0</td>\n",
       "    </tr>\n",
       "  </tbody>\n",
       "</table>\n",
       "<p>801 rows × 6 columns</p>\n",
       "</div>"
      ],
      "text/plain": [
       "     height_m  weight_kg     hp  attack  defense  speed\n",
       "0         0.7        6.9   45.0    49.0     49.0   45.0\n",
       "1         1.0       13.0   60.0    62.0     63.0   60.0\n",
       "2         2.0      100.0   80.0   100.0    123.0   80.0\n",
       "3         0.6        8.5   39.0    52.0     43.0   65.0\n",
       "4         1.1       19.0   58.0    64.0     58.0   80.0\n",
       "..        ...        ...    ...     ...      ...    ...\n",
       "796       9.2      999.9   97.0   101.0    103.0   61.0\n",
       "797       0.3        0.1   59.0   181.0    131.0  109.0\n",
       "798       5.5      888.0  223.0   101.0     53.0   43.0\n",
       "799       2.4      230.0   97.0   107.0    101.0   79.0\n",
       "800       1.0       80.5   80.0    95.0    115.0   65.0\n",
       "\n",
       "[801 rows x 6 columns]"
      ]
     },
     "execution_count": 17,
     "metadata": {},
     "output_type": "execute_result"
    }
   ],
   "source": [
    "pokemon_metric"
   ]
  },
  {
   "cell_type": "code",
   "execution_count": 18,
   "metadata": {},
   "outputs": [
    {
     "data": {
      "text/html": [
       "<div>\n",
       "<style scoped>\n",
       "    .dataframe tbody tr th:only-of-type {\n",
       "        vertical-align: middle;\n",
       "    }\n",
       "\n",
       "    .dataframe tbody tr th {\n",
       "        vertical-align: top;\n",
       "    }\n",
       "\n",
       "    .dataframe thead th {\n",
       "        text-align: right;\n",
       "    }\n",
       "</style>\n",
       "<table border=\"1\" class=\"dataframe\">\n",
       "  <thead>\n",
       "    <tr style=\"text-align: right;\">\n",
       "      <th></th>\n",
       "      <th>height_m</th>\n",
       "      <th>weight_kg</th>\n",
       "      <th>hp</th>\n",
       "      <th>attack</th>\n",
       "      <th>defense</th>\n",
       "      <th>speed</th>\n",
       "      <th>cluster</th>\n",
       "    </tr>\n",
       "  </thead>\n",
       "  <tbody>\n",
       "    <tr>\n",
       "      <th>0</th>\n",
       "      <td>-0.401839</td>\n",
       "      <td>-0.488412</td>\n",
       "      <td>-0.901520</td>\n",
       "      <td>-0.897349</td>\n",
       "      <td>-0.780286</td>\n",
       "      <td>-0.738025</td>\n",
       "      <td>5</td>\n",
       "    </tr>\n",
       "    <tr>\n",
       "      <th>1</th>\n",
       "      <td>-0.124601</td>\n",
       "      <td>-0.432140</td>\n",
       "      <td>-0.337101</td>\n",
       "      <td>-0.493105</td>\n",
       "      <td>-0.325285</td>\n",
       "      <td>-0.219132</td>\n",
       "      <td>5</td>\n",
       "    </tr>\n",
       "    <tr>\n",
       "      <th>2</th>\n",
       "      <td>0.799525</td>\n",
       "      <td>0.370416</td>\n",
       "      <td>0.415457</td>\n",
       "      <td>0.688530</td>\n",
       "      <td>1.624720</td>\n",
       "      <td>0.472727</td>\n",
       "      <td>1</td>\n",
       "    </tr>\n",
       "    <tr>\n",
       "      <th>3</th>\n",
       "      <td>-0.494252</td>\n",
       "      <td>-0.473652</td>\n",
       "      <td>-1.127287</td>\n",
       "      <td>-0.804062</td>\n",
       "      <td>-0.975286</td>\n",
       "      <td>-0.046167</td>\n",
       "      <td>5</td>\n",
       "    </tr>\n",
       "    <tr>\n",
       "      <th>4</th>\n",
       "      <td>-0.032189</td>\n",
       "      <td>-0.376792</td>\n",
       "      <td>-0.412357</td>\n",
       "      <td>-0.430914</td>\n",
       "      <td>-0.487785</td>\n",
       "      <td>0.472727</td>\n",
       "      <td>5</td>\n",
       "    </tr>\n",
       "    <tr>\n",
       "      <th>...</th>\n",
       "      <td>...</td>\n",
       "      <td>...</td>\n",
       "      <td>...</td>\n",
       "      <td>...</td>\n",
       "      <td>...</td>\n",
       "      <td>...</td>\n",
       "      <td>...</td>\n",
       "    </tr>\n",
       "    <tr>\n",
       "      <th>796</th>\n",
       "      <td>7.453233</td>\n",
       "      <td>8.671803</td>\n",
       "      <td>1.055132</td>\n",
       "      <td>0.719626</td>\n",
       "      <td>0.974718</td>\n",
       "      <td>-0.184539</td>\n",
       "      <td>4</td>\n",
       "    </tr>\n",
       "    <tr>\n",
       "      <th>797</th>\n",
       "      <td>-0.771490</td>\n",
       "      <td>-0.551140</td>\n",
       "      <td>-0.374729</td>\n",
       "      <td>3.207279</td>\n",
       "      <td>1.884720</td>\n",
       "      <td>1.475921</td>\n",
       "      <td>0</td>\n",
       "    </tr>\n",
       "    <tr>\n",
       "      <th>798</th>\n",
       "      <td>4.033966</td>\n",
       "      <td>7.639550</td>\n",
       "      <td>5.796249</td>\n",
       "      <td>0.719626</td>\n",
       "      <td>-0.650286</td>\n",
       "      <td>-0.807211</td>\n",
       "      <td>4</td>\n",
       "    </tr>\n",
       "    <tr>\n",
       "      <th>799</th>\n",
       "      <td>1.169175</td>\n",
       "      <td>1.569639</td>\n",
       "      <td>1.055132</td>\n",
       "      <td>0.906200</td>\n",
       "      <td>0.909718</td>\n",
       "      <td>0.438134</td>\n",
       "      <td>2</td>\n",
       "    </tr>\n",
       "    <tr>\n",
       "      <th>800</th>\n",
       "      <td>-0.124601</td>\n",
       "      <td>0.190533</td>\n",
       "      <td>0.415457</td>\n",
       "      <td>0.533052</td>\n",
       "      <td>1.364719</td>\n",
       "      <td>-0.046167</td>\n",
       "      <td>1</td>\n",
       "    </tr>\n",
       "  </tbody>\n",
       "</table>\n",
       "<p>801 rows × 7 columns</p>\n",
       "</div>"
      ],
      "text/plain": [
       "     height_m  weight_kg        hp    attack   defense     speed  cluster\n",
       "0   -0.401839  -0.488412 -0.901520 -0.897349 -0.780286 -0.738025        5\n",
       "1   -0.124601  -0.432140 -0.337101 -0.493105 -0.325285 -0.219132        5\n",
       "2    0.799525   0.370416  0.415457  0.688530  1.624720  0.472727        1\n",
       "3   -0.494252  -0.473652 -1.127287 -0.804062 -0.975286 -0.046167        5\n",
       "4   -0.032189  -0.376792 -0.412357 -0.430914 -0.487785  0.472727        5\n",
       "..        ...        ...       ...       ...       ...       ...      ...\n",
       "796  7.453233   8.671803  1.055132  0.719626  0.974718 -0.184539        4\n",
       "797 -0.771490  -0.551140 -0.374729  3.207279  1.884720  1.475921        0\n",
       "798  4.033966   7.639550  5.796249  0.719626 -0.650286 -0.807211        4\n",
       "799  1.169175   1.569639  1.055132  0.906200  0.909718  0.438134        2\n",
       "800 -0.124601   0.190533  0.415457  0.533052  1.364719 -0.046167        1\n",
       "\n",
       "[801 rows x 7 columns]"
      ]
     },
     "execution_count": 18,
     "metadata": {},
     "output_type": "execute_result"
    }
   ],
   "source": [
    "pokemon_std"
   ]
  },
  {
   "cell_type": "markdown",
   "metadata": {},
   "source": [
    "# 3.0 Plotting"
   ]
  },
  {
   "cell_type": "code",
   "execution_count": 19,
   "metadata": {},
   "outputs": [
    {
     "data": {
      "text/plain": [
       "<seaborn.axisgrid.PairGrid at 0x208de7d79a0>"
      ]
     },
     "execution_count": 19,
     "metadata": {},
     "output_type": "execute_result"
    },
    {
     "data": {
      "image/png": "[encoded data removed]",
      "text/plain": [
       "<Figure size 1122.38x1080 with 42 Axes>"
      ]
     },
     "metadata": {
      "needs_background": "light"
     },
     "output_type": "display_data"
    }
   ],
   "source": [
    "sns.pairplot(data=pokemon_std, vars=['attack','defense', 'hp', 'speed', 'height_m','weight_kg'], hue='cluster')"
   ]
  },
  {
   "cell_type": "markdown",
   "metadata": {},
   "source": [
    "# 4.0 Identifying My Poki"
   ]
  },
  {
   "cell_type": "code",
   "execution_count": 20,
   "metadata": {},
   "outputs": [],
   "source": [
    "\n",
    "# determine your final pokemon here\n",
    "def distance_to_other_clusters(single_pokemon):\n",
    "    metric = np.array(single_pokemon[['weight_kg','height_m','attack','defense','speed','hp']])\n",
    "    cluster_number = round(single_pokemon['cluster'])\n",
    "    distance = 0\n",
    "    for cluster_index in range(0, len(cluster_centers)):\n",
    "        if cluster_index == cluster_number:\n",
    "            continue\n",
    "        center = cluster_centers[cluster_index]\n",
    "        distance += np.sqrt(sum(np.square(metric - center))) # Euclidean Distance\n",
    "    return distance\n",
    "\n",
    "# evaluate all pokemon\n",
    "pokemon_dissimilarity = pokemon_std.apply(distance_to_other_clusters, axis=1)\n",
    "pokemon_dissimilarity = pokemon_dissimilarity.rename('dissimilarity')\n",
    "\n",
    "# join to other metrics\n",
    "pokemon_processed = pokemon_std.join(pokemon_dissimilarity.to_frame()).join(df['name'].to_frame())\n",
    "\n",
    "# pick most dissimilar pokemon per cluster\n",
    "chosen_pokemon = pd.DataFrame()\n",
    "for cluster_index in range(0, len(cluster_centers)):\n",
    "    pokemon_cluster = pokemon_processed[pokemon_processed['cluster'] == cluster_index]\n",
    "    chosen_pokemon = chosen_pokemon.append(pokemon_cluster[pokemon_cluster['dissimilarity']==pokemon_cluster['dissimilarity'].max()])"
   ]
  },
  {
   "cell_type": "code",
   "execution_count": 21,
   "metadata": {},
   "outputs": [
    {
     "data": {
      "text/html": [
       "<div>\n",
       "<style scoped>\n",
       "    .dataframe tbody tr th:only-of-type {\n",
       "        vertical-align: middle;\n",
       "    }\n",
       "\n",
       "    .dataframe tbody tr th {\n",
       "        vertical-align: top;\n",
       "    }\n",
       "\n",
       "    .dataframe thead th {\n",
       "        text-align: right;\n",
       "    }\n",
       "</style>\n",
       "<table border=\"1\" class=\"dataframe\">\n",
       "  <thead>\n",
       "    <tr style=\"text-align: right;\">\n",
       "      <th></th>\n",
       "      <th>height_m</th>\n",
       "      <th>weight_kg</th>\n",
       "      <th>hp</th>\n",
       "      <th>attack</th>\n",
       "      <th>defense</th>\n",
       "      <th>speed</th>\n",
       "      <th>cluster</th>\n",
       "      <th>dissimilarity</th>\n",
       "      <th>name</th>\n",
       "    </tr>\n",
       "  </thead>\n",
       "  <tbody>\n",
       "    <tr>\n",
       "      <th>797</th>\n",
       "      <td>-0.771490</td>\n",
       "      <td>-0.551140</td>\n",
       "      <td>-0.374729</td>\n",
       "      <td>3.207279</td>\n",
       "      <td>1.884720</td>\n",
       "      <td>1.475921</td>\n",
       "      <td>0</td>\n",
       "      <td>25.408075</td>\n",
       "      <td>Kartana</td>\n",
       "    </tr>\n",
       "    <tr>\n",
       "      <th>212</th>\n",
       "      <td>-0.494252</td>\n",
       "      <td>-0.362955</td>\n",
       "      <td>-1.842218</td>\n",
       "      <td>-2.110080</td>\n",
       "      <td>5.102228</td>\n",
       "      <td>-2.121741</td>\n",
       "      <td>1</td>\n",
       "      <td>37.020930</td>\n",
       "      <td>Shuckle</td>\n",
       "    </tr>\n",
       "    <tr>\n",
       "      <th>717</th>\n",
       "      <td>3.571903</td>\n",
       "      <td>2.073312</td>\n",
       "      <td>5.532854</td>\n",
       "      <td>0.688530</td>\n",
       "      <td>1.559720</td>\n",
       "      <td>0.645691</td>\n",
       "      <td>2</td>\n",
       "      <td>36.453831</td>\n",
       "      <td>Zygarde</td>\n",
       "    </tr>\n",
       "    <tr>\n",
       "      <th>112</th>\n",
       "      <td>-0.032189</td>\n",
       "      <td>-0.232885</td>\n",
       "      <td>6.812203</td>\n",
       "      <td>-2.265558</td>\n",
       "      <td>-2.210289</td>\n",
       "      <td>-0.565061</td>\n",
       "      <td>3</td>\n",
       "      <td>43.326997</td>\n",
       "      <td>Chansey</td>\n",
       "    </tr>\n",
       "    <tr>\n",
       "      <th>320</th>\n",
       "      <td>12.351101</td>\n",
       "      <td>3.119403</td>\n",
       "      <td>3.801970</td>\n",
       "      <td>0.377574</td>\n",
       "      <td>-0.910286</td>\n",
       "      <td>-0.219132</td>\n",
       "      <td>4</td>\n",
       "      <td>65.913147</td>\n",
       "      <td>Wailord</td>\n",
       "    </tr>\n",
       "    <tr>\n",
       "      <th>439</th>\n",
       "      <td>-0.494252</td>\n",
       "      <td>-0.326978</td>\n",
       "      <td>1.168016</td>\n",
       "      <td>-2.265558</td>\n",
       "      <td>-2.210289</td>\n",
       "      <td>-1.256919</td>\n",
       "      <td>5</td>\n",
       "      <td>29.646291</td>\n",
       "      <td>Happiny</td>\n",
       "    </tr>\n",
       "  </tbody>\n",
       "</table>\n",
       "</div>"
      ],
      "text/plain": [
       "      height_m  weight_kg        hp    attack   defense     speed  cluster  \\\n",
       "797  -0.771490  -0.551140 -0.374729  3.207279  1.884720  1.475921        0   \n",
       "212  -0.494252  -0.362955 -1.842218 -2.110080  5.102228 -2.121741        1   \n",
       "717   3.571903   2.073312  5.532854  0.688530  1.559720  0.645691        2   \n",
       "112  -0.032189  -0.232885  6.812203 -2.265558 -2.210289 -0.565061        3   \n",
       "320  12.351101   3.119403  3.801970  0.377574 -0.910286 -0.219132        4   \n",
       "439  -0.494252  -0.326978  1.168016 -2.265558 -2.210289 -1.256919        5   \n",
       "\n",
       "     dissimilarity     name  \n",
       "797      25.408075  Kartana  \n",
       "212      37.020930  Shuckle  \n",
       "717      36.453831  Zygarde  \n",
       "112      43.326997  Chansey  \n",
       "320      65.913147  Wailord  \n",
       "439      29.646291  Happiny  "
      ]
     },
     "execution_count": 21,
     "metadata": {},
     "output_type": "execute_result"
    }
   ],
   "source": [
    "chosen_pokemon"
   ]
  },
  {
   "cell_type": "markdown",
   "metadata": {},
   "source": [
    "## 2. Similarity criteria\n",
    "\n",
    "Very nice! What a unique team!\n",
    "\n",
    "You probably used the same **similarity criteria** as the introduction example. **k-means** uses Euclidean distance as a similarity criteria, so it makes sense that we also use Euclidean distance for our **dissimilarity criteria**, but what would happen if we picked something else?\n",
    "\n",
    "\"Woah, you're going too fast, 'Euclidean distance'? What do you mean by that?\"\n",
    "\n",
    "This is distance as we know it in the **real world**, a line connecting two points. But distance does not have to be defined this way in our **problem space**, it can be **Manhattan distance**, or **squared distance**, or something else entirely.\n",
    "\n",
    "<img src=\"https://media.springernature.com/original/springer-static/image/chp%3A10.1007%2F978-981-10-8818-6_7/MediaObjects/463464_1_En_7_Fig2_HTML.jpg\" align=\"center\" width=\"600\"/>\n",
    "\n",
    "Replacing this similarity criteria for the `sklearn` k-means is no trivial task, so I will not ask this of you, but changing it for our **dissimilarity criteria** should be doable.\n",
    "\n",
    "For the next exercise, I would like you to:\n",
    "- replace the dissimilarity criteria from the example by:\n",
    "    - manhattan distance\n",
    "    - squared distance\n",
    "    - 1/(squared distance)"
   ]
  },
  {
   "cell_type": "markdown",
   "metadata": {},
   "source": [
    "# Manhattan Distance"
   ]
  },
  {
   "cell_type": "markdown",
   "metadata": {},
   "source": [
    "### The Euclidean distance function measures the ‘as-the-crow-flies’ distance"
   ]
  },
  {
   "cell_type": "code",
   "execution_count": 22,
   "metadata": {},
   "outputs": [],
   "source": [
    "# Assign dissimilarity to your pokemon here\n",
    "from scipy.spatial.distance import cdist\n",
    "def distance_to_other_clusters(single_pokemon):\n",
    "    metric = np.array(single_pokemon[['weight_kg','height_m','attack','defense','speed','hp']])\n",
    "    cluster_number = round(single_pokemon['cluster'])\n",
    "    distance = 0\n",
    "    for cluster_index in range(0, len(cluster_centers)):\n",
    "        if cluster_index == cluster_number:\n",
    "            continue\n",
    "        center = cluster_centers[cluster_index]\n",
    "        distance += (np.abs(sum(metric - center)))#Manhattan distance\n",
    "        \n",
    "    return distance\n",
    "\n",
    "# evaluate all pokemon\n",
    "pokemon_dissimilarity = pokemon_std.apply(distance_to_other_clusters, axis=1)\n",
    "pokemon_dissimilarity = pokemon_dissimilarity.rename('dissimilarity')\n",
    "\n",
    "# join to other metrics\n",
    "pokemon_processed = pokemon_std.join(pokemon_dissimilarity.to_frame()).join(df['name'].to_frame())\n",
    "\n",
    "# pick most dissimilar pokemon per cluster\n",
    "chosen_pokemon2 = pd.DataFrame()\n",
    "for cluster_index in range(0, len(cluster_centers)):\n",
    "    pokemon_cluster = pokemon_processed[pokemon_processed['cluster'] == cluster_index]\n",
    "    chosen_pokemon2 = chosen_pokemon2.append(pokemon_cluster[pokemon_cluster['dissimilarity']==pokemon_cluster['dissimilarity'].max()])"
   ]
  },
  {
   "cell_type": "code",
   "execution_count": 23,
   "metadata": {},
   "outputs": [
    {
     "data": {
      "text/html": [
       "<div>\n",
       "<style scoped>\n",
       "    .dataframe tbody tr th:only-of-type {\n",
       "        vertical-align: middle;\n",
       "    }\n",
       "\n",
       "    .dataframe tbody tr th {\n",
       "        vertical-align: top;\n",
       "    }\n",
       "\n",
       "    .dataframe thead th {\n",
       "        text-align: right;\n",
       "    }\n",
       "</style>\n",
       "<table border=\"1\" class=\"dataframe\">\n",
       "  <thead>\n",
       "    <tr style=\"text-align: right;\">\n",
       "      <th></th>\n",
       "      <th>height_m</th>\n",
       "      <th>weight_kg</th>\n",
       "      <th>hp</th>\n",
       "      <th>attack</th>\n",
       "      <th>defense</th>\n",
       "      <th>speed</th>\n",
       "      <th>cluster</th>\n",
       "      <th>dissimilarity</th>\n",
       "      <th>name</th>\n",
       "    </tr>\n",
       "  </thead>\n",
       "  <tbody>\n",
       "    <tr>\n",
       "      <th>149</th>\n",
       "      <td>0.799525</td>\n",
       "      <td>0.573362</td>\n",
       "      <td>1.393783</td>\n",
       "      <td>2.243314</td>\n",
       "      <td>-0.097784</td>\n",
       "      <td>2.548301</td>\n",
       "      <td>0</td>\n",
       "      <td>32.054671</td>\n",
       "      <td>Mewtwo</td>\n",
       "    </tr>\n",
       "    <tr>\n",
       "      <th>596</th>\n",
       "      <td>-0.494252</td>\n",
       "      <td>-0.378637</td>\n",
       "      <td>-0.939148</td>\n",
       "      <td>-0.866253</td>\n",
       "      <td>0.584717</td>\n",
       "      <td>-1.948777</td>\n",
       "      <td>1</td>\n",
       "      <td>42.101392</td>\n",
       "      <td>Ferroseed</td>\n",
       "    </tr>\n",
       "    <tr>\n",
       "      <th>717</th>\n",
       "      <td>3.571903</td>\n",
       "      <td>2.073312</td>\n",
       "      <td>5.532854</td>\n",
       "      <td>0.688530</td>\n",
       "      <td>1.559720</td>\n",
       "      <td>0.645691</td>\n",
       "      <td>2</td>\n",
       "      <td>57.117245</td>\n",
       "      <td>Zygarde</td>\n",
       "    </tr>\n",
       "    <tr>\n",
       "      <th>38</th>\n",
       "      <td>-0.586664</td>\n",
       "      <td>-0.501326</td>\n",
       "      <td>1.732434</td>\n",
       "      <td>-1.021731</td>\n",
       "      <td>-1.722788</td>\n",
       "      <td>-1.602848</td>\n",
       "      <td>3</td>\n",
       "      <td>39.260430</td>\n",
       "      <td>Jigglypuff</td>\n",
       "    </tr>\n",
       "    <tr>\n",
       "      <th>796</th>\n",
       "      <td>7.453233</td>\n",
       "      <td>8.671803</td>\n",
       "      <td>1.055132</td>\n",
       "      <td>0.719626</td>\n",
       "      <td>0.974718</td>\n",
       "      <td>-0.184539</td>\n",
       "      <td>4</td>\n",
       "      <td>85.965711</td>\n",
       "      <td>Celesteela</td>\n",
       "    </tr>\n",
       "    <tr>\n",
       "      <th>190</th>\n",
       "      <td>-0.771490</td>\n",
       "      <td>-0.535458</td>\n",
       "      <td>-1.465938</td>\n",
       "      <td>-1.488166</td>\n",
       "      <td>-1.397787</td>\n",
       "      <td>-1.256919</td>\n",
       "      <td>5</td>\n",
       "      <td>60.207207</td>\n",
       "      <td>Sunkern</td>\n",
       "    </tr>\n",
       "  </tbody>\n",
       "</table>\n",
       "</div>"
      ],
      "text/plain": [
       "     height_m  weight_kg        hp    attack   defense     speed  cluster  \\\n",
       "149  0.799525   0.573362  1.393783  2.243314 -0.097784  2.548301        0   \n",
       "596 -0.494252  -0.378637 -0.939148 -0.866253  0.584717 -1.948777        1   \n",
       "717  3.571903   2.073312  5.532854  0.688530  1.559720  0.645691        2   \n",
       "38  -0.586664  -0.501326  1.732434 -1.021731 -1.722788 -1.602848        3   \n",
       "796  7.453233   8.671803  1.055132  0.719626  0.974718 -0.184539        4   \n",
       "190 -0.771490  -0.535458 -1.465938 -1.488166 -1.397787 -1.256919        5   \n",
       "\n",
       "     dissimilarity        name  \n",
       "149      32.054671      Mewtwo  \n",
       "596      42.101392   Ferroseed  \n",
       "717      57.117245     Zygarde  \n",
       "38       39.260430  Jigglypuff  \n",
       "796      85.965711  Celesteela  \n",
       "190      60.207207     Sunkern  "
      ]
     },
     "execution_count": 23,
     "metadata": {},
     "output_type": "execute_result"
    }
   ],
   "source": [
    "chosen_pokemon2"
   ]
  },
  {
   "cell_type": "markdown",
   "metadata": {},
   "source": [
    "# Squared Distance"
   ]
  },
  {
   "cell_type": "markdown",
   "metadata": {},
   "source": [
    "### The Euclidean Squared distance metric uses the same equation as the Euclidean distance metric, but does not take the square root. As a result, clustering with the Euclidean Squared distance metric is faster than clustering with the regular Euclidean distance. The output of Jarvis-Patrick and K-Means clustering is not affected if Euclidean distance is replaced with Euclidean squared. However, the output of hierarchical clustering is likely to change"
   ]
  },
  {
   "cell_type": "code",
   "execution_count": 24,
   "metadata": {},
   "outputs": [],
   "source": [
    "def distance_to_other_clusters(single_pokemon):\n",
    "    metric = np.array(single_pokemon[['weight_kg','height_m','attack','defense','speed','hp']])\n",
    "    cluster_number = round(single_pokemon['cluster'])\n",
    "    distance = 0\n",
    "    for cluster_index in range(0, len(cluster_centers)):\n",
    "        if cluster_index == cluster_number:\n",
    "            continue\n",
    "        center = cluster_centers[cluster_index]\n",
    "        distance += sum(np.square(metric - center))\n",
    "    return distance\n",
    "\n",
    "# evaluate all pokemon\n",
    "pokemon_dissimilarity = pokemon_std.apply(distance_to_other_clusters, axis=1)\n",
    "pokemon_dissimilarity = pokemon_dissimilarity.rename('dissimilarity')\n",
    "\n",
    "# join to other metrics\n",
    "pokemon_processed = pokemon_std.join(pokemon_dissimilarity.to_frame()).join(df['name'].to_frame())\n",
    "\n",
    "# pick most dissimilar pokemon per cluster\n",
    "chosen_pokemon3 = pd.DataFrame()\n",
    "for cluster_index in range(0, len(cluster_centers)):\n",
    "    pokemon_cluster = pokemon_processed[pokemon_processed['cluster'] == cluster_index]\n",
    "    chosen_pokemon3 = chosen_pokemon3.append(pokemon_cluster[pokemon_cluster['dissimilarity']==pokemon_cluster['dissimilarity'].max()])"
   ]
  },
  {
   "cell_type": "code",
   "execution_count": 25,
   "metadata": {},
   "outputs": [
    {
     "data": {
      "text/html": [
       "<div>\n",
       "<style scoped>\n",
       "    .dataframe tbody tr th:only-of-type {\n",
       "        vertical-align: middle;\n",
       "    }\n",
       "\n",
       "    .dataframe tbody tr th {\n",
       "        vertical-align: top;\n",
       "    }\n",
       "\n",
       "    .dataframe thead th {\n",
       "        text-align: right;\n",
       "    }\n",
       "</style>\n",
       "<table border=\"1\" class=\"dataframe\">\n",
       "  <thead>\n",
       "    <tr style=\"text-align: right;\">\n",
       "      <th></th>\n",
       "      <th>height_m</th>\n",
       "      <th>weight_kg</th>\n",
       "      <th>hp</th>\n",
       "      <th>attack</th>\n",
       "      <th>defense</th>\n",
       "      <th>speed</th>\n",
       "      <th>cluster</th>\n",
       "      <th>dissimilarity</th>\n",
       "      <th>name</th>\n",
       "    </tr>\n",
       "  </thead>\n",
       "  <tbody>\n",
       "    <tr>\n",
       "      <th>797</th>\n",
       "      <td>-0.771490</td>\n",
       "      <td>-0.551140</td>\n",
       "      <td>-0.374729</td>\n",
       "      <td>3.207279</td>\n",
       "      <td>1.884720</td>\n",
       "      <td>1.475921</td>\n",
       "      <td>0</td>\n",
       "      <td>149.623572</td>\n",
       "      <td>Kartana</td>\n",
       "    </tr>\n",
       "    <tr>\n",
       "      <th>212</th>\n",
       "      <td>-0.494252</td>\n",
       "      <td>-0.362955</td>\n",
       "      <td>-1.842218</td>\n",
       "      <td>-2.110080</td>\n",
       "      <td>5.102228</td>\n",
       "      <td>-2.121741</td>\n",
       "      <td>1</td>\n",
       "      <td>289.278813</td>\n",
       "      <td>Shuckle</td>\n",
       "    </tr>\n",
       "    <tr>\n",
       "      <th>717</th>\n",
       "      <td>3.571903</td>\n",
       "      <td>2.073312</td>\n",
       "      <td>5.532854</td>\n",
       "      <td>0.688530</td>\n",
       "      <td>1.559720</td>\n",
       "      <td>0.645691</td>\n",
       "      <td>2</td>\n",
       "      <td>268.225068</td>\n",
       "      <td>Zygarde</td>\n",
       "    </tr>\n",
       "    <tr>\n",
       "      <th>112</th>\n",
       "      <td>-0.032189</td>\n",
       "      <td>-0.232885</td>\n",
       "      <td>6.812203</td>\n",
       "      <td>-2.265558</td>\n",
       "      <td>-2.210289</td>\n",
       "      <td>-0.565061</td>\n",
       "      <td>3</td>\n",
       "      <td>390.447867</td>\n",
       "      <td>Chansey</td>\n",
       "    </tr>\n",
       "    <tr>\n",
       "      <th>320</th>\n",
       "      <td>12.351101</td>\n",
       "      <td>3.119403</td>\n",
       "      <td>3.801970</td>\n",
       "      <td>0.377574</td>\n",
       "      <td>-0.910286</td>\n",
       "      <td>-0.219132</td>\n",
       "      <td>4</td>\n",
       "      <td>872.275468</td>\n",
       "      <td>Wailord</td>\n",
       "    </tr>\n",
       "    <tr>\n",
       "      <th>439</th>\n",
       "      <td>-0.494252</td>\n",
       "      <td>-0.326978</td>\n",
       "      <td>1.168016</td>\n",
       "      <td>-2.265558</td>\n",
       "      <td>-2.210289</td>\n",
       "      <td>-1.256919</td>\n",
       "      <td>5</td>\n",
       "      <td>201.676201</td>\n",
       "      <td>Happiny</td>\n",
       "    </tr>\n",
       "  </tbody>\n",
       "</table>\n",
       "</div>"
      ],
      "text/plain": [
       "      height_m  weight_kg        hp    attack   defense     speed  cluster  \\\n",
       "797  -0.771490  -0.551140 -0.374729  3.207279  1.884720  1.475921        0   \n",
       "212  -0.494252  -0.362955 -1.842218 -2.110080  5.102228 -2.121741        1   \n",
       "717   3.571903   2.073312  5.532854  0.688530  1.559720  0.645691        2   \n",
       "112  -0.032189  -0.232885  6.812203 -2.265558 -2.210289 -0.565061        3   \n",
       "320  12.351101   3.119403  3.801970  0.377574 -0.910286 -0.219132        4   \n",
       "439  -0.494252  -0.326978  1.168016 -2.265558 -2.210289 -1.256919        5   \n",
       "\n",
       "     dissimilarity     name  \n",
       "797     149.623572  Kartana  \n",
       "212     289.278813  Shuckle  \n",
       "717     268.225068  Zygarde  \n",
       "112     390.447867  Chansey  \n",
       "320     872.275468  Wailord  \n",
       "439     201.676201  Happiny  "
      ]
     },
     "execution_count": 25,
     "metadata": {},
     "output_type": "execute_result"
    }
   ],
   "source": [
    "chosen_pokemon3"
   ]
  },
  {
   "cell_type": "markdown",
   "metadata": {},
   "source": [
    "# 1/(squared Distance)"
   ]
  },
  {
   "cell_type": "markdown",
   "metadata": {},
   "source": [
    "### What is the Inverse Square Law Formula? The intensity of the light to an observer from a source is inversely proportional to the square of the distance from the observer to the source. This shows that as the distance from a light source increases, the intensity of light is equal to a value multiplied by 1/d2"
   ]
  },
  {
   "cell_type": "code",
   "execution_count": 26,
   "metadata": {},
   "outputs": [],
   "source": [
    "def distance_to_other_clusters(single_pokemon):\n",
    "    metric = np.array(single_pokemon[['weight_kg','height_m','attack','defense','speed','hp']])\n",
    "    cluster_number = round(single_pokemon['cluster'])\n",
    "    distance = 0\n",
    "    for cluster_index in range(0, len(cluster_centers)):\n",
    "        if cluster_index == cluster_number:\n",
    "            continue\n",
    "        center = cluster_centers[cluster_index]\n",
    "        distance += 1/sum(np.square(metric - center))\n",
    "    return distance\n",
    "\n",
    "# evaluate all pokemon\n",
    "pokemon_dissimilarity = pokemon_std.apply(distance_to_other_clusters, axis=1)\n",
    "pokemon_dissimilarity = pokemon_dissimilarity.rename('dissimilarity')\n",
    "\n",
    "# join to other metrics\n",
    "pokemon_processed = pokemon_std.join(pokemon_dissimilarity.to_frame()).join(df['name'].to_frame())\n",
    "\n",
    "# pick most dissimilar pokemon per cluster\n",
    "chosen_pokemon4 = pd.DataFrame()\n",
    "for cluster_index in range(0, len(cluster_centers)):\n",
    "    pokemon_cluster = pokemon_processed[pokemon_processed['cluster'] == cluster_index]\n",
    "    chosen_pokemon4 = chosen_pokemon4.append(pokemon_cluster[pokemon_cluster['dissimilarity']==pokemon_cluster['dissimilarity'].max()])"
   ]
  },
  {
   "cell_type": "code",
   "execution_count": 27,
   "metadata": {},
   "outputs": [
    {
     "data": {
      "text/html": [
       "<div>\n",
       "<style scoped>\n",
       "    .dataframe tbody tr th:only-of-type {\n",
       "        vertical-align: middle;\n",
       "    }\n",
       "\n",
       "    .dataframe tbody tr th {\n",
       "        vertical-align: top;\n",
       "    }\n",
       "\n",
       "    .dataframe thead th {\n",
       "        text-align: right;\n",
       "    }\n",
       "</style>\n",
       "<table border=\"1\" class=\"dataframe\">\n",
       "  <thead>\n",
       "    <tr style=\"text-align: right;\">\n",
       "      <th></th>\n",
       "      <th>height_m</th>\n",
       "      <th>weight_kg</th>\n",
       "      <th>hp</th>\n",
       "      <th>attack</th>\n",
       "      <th>defense</th>\n",
       "      <th>speed</th>\n",
       "      <th>cluster</th>\n",
       "      <th>dissimilarity</th>\n",
       "      <th>name</th>\n",
       "    </tr>\n",
       "  </thead>\n",
       "  <tbody>\n",
       "    <tr>\n",
       "      <th>106</th>\n",
       "      <td>0.245049</td>\n",
       "      <td>-0.088978</td>\n",
       "      <td>-0.713380</td>\n",
       "      <td>0.844009</td>\n",
       "      <td>0.194716</td>\n",
       "      <td>0.334355</td>\n",
       "      <td>0</td>\n",
       "      <td>3.043383</td>\n",
       "      <td>Hitmonchan</td>\n",
       "    </tr>\n",
       "    <tr>\n",
       "      <th>341</th>\n",
       "      <td>-0.032189</td>\n",
       "      <td>-0.249490</td>\n",
       "      <td>-0.224217</td>\n",
       "      <td>1.310444</td>\n",
       "      <td>0.389717</td>\n",
       "      <td>-0.392096</td>\n",
       "      <td>1</td>\n",
       "      <td>2.528845</td>\n",
       "      <td>Crawdaunt</td>\n",
       "    </tr>\n",
       "    <tr>\n",
       "      <th>720</th>\n",
       "      <td>0.522287</td>\n",
       "      <td>1.246771</td>\n",
       "      <td>0.415457</td>\n",
       "      <td>0.999487</td>\n",
       "      <td>1.527220</td>\n",
       "      <td>0.126797</td>\n",
       "      <td>2</td>\n",
       "      <td>0.732236</td>\n",
       "      <td>Volcanion</td>\n",
       "    </tr>\n",
       "    <tr>\n",
       "      <th>30</th>\n",
       "      <td>0.152637</td>\n",
       "      <td>0.001425</td>\n",
       "      <td>0.791736</td>\n",
       "      <td>0.439765</td>\n",
       "      <td>0.454717</td>\n",
       "      <td>0.334355</td>\n",
       "      <td>3</td>\n",
       "      <td>2.784310</td>\n",
       "      <td>Nidoqueen</td>\n",
       "    </tr>\n",
       "    <tr>\n",
       "      <th>482</th>\n",
       "      <td>3.941554</td>\n",
       "      <td>5.748468</td>\n",
       "      <td>1.168016</td>\n",
       "      <td>1.310444</td>\n",
       "      <td>1.527220</td>\n",
       "      <td>0.818656</td>\n",
       "      <td>4</td>\n",
       "      <td>0.113234</td>\n",
       "      <td>Dialga</td>\n",
       "    </tr>\n",
       "    <tr>\n",
       "      <th>495</th>\n",
       "      <td>-0.309426</td>\n",
       "      <td>-0.404466</td>\n",
       "      <td>-0.337101</td>\n",
       "      <td>-0.555296</td>\n",
       "      <td>0.064716</td>\n",
       "      <td>0.576505</td>\n",
       "      <td>5</td>\n",
       "      <td>1.726808</td>\n",
       "      <td>Servine</td>\n",
       "    </tr>\n",
       "  </tbody>\n",
       "</table>\n",
       "</div>"
      ],
      "text/plain": [
       "     height_m  weight_kg        hp    attack   defense     speed  cluster  \\\n",
       "106  0.245049  -0.088978 -0.713380  0.844009  0.194716  0.334355        0   \n",
       "341 -0.032189  -0.249490 -0.224217  1.310444  0.389717 -0.392096        1   \n",
       "720  0.522287   1.246771  0.415457  0.999487  1.527220  0.126797        2   \n",
       "30   0.152637   0.001425  0.791736  0.439765  0.454717  0.334355        3   \n",
       "482  3.941554   5.748468  1.168016  1.310444  1.527220  0.818656        4   \n",
       "495 -0.309426  -0.404466 -0.337101 -0.555296  0.064716  0.576505        5   \n",
       "\n",
       "     dissimilarity        name  \n",
       "106       3.043383  Hitmonchan  \n",
       "341       2.528845   Crawdaunt  \n",
       "720       0.732236   Volcanion  \n",
       "30        2.784310   Nidoqueen  \n",
       "482       0.113234      Dialga  \n",
       "495       1.726808     Servine  "
      ]
     },
     "execution_count": 27,
     "metadata": {},
     "output_type": "execute_result"
    }
   ],
   "source": [
    "chosen_pokemon4"
   ]
  },
  {
   "cell_type": "markdown",
   "metadata": {},
   "source": [
    "Did your team change? Why do you think it did(n't)? Discuss this with one of your colleagues!"
   ]
  },
  {
   "cell_type": "markdown",
   "metadata": {},
   "source": [
    "## 3. Heterogenous data\n",
    "\n",
    "There! We did it! The most **diverse pokémon team** possible...or is it?\n",
    "\n",
    "We have clustered our pokémon according to **weight** and **height** in the example, and according to **combat abilities** in the first drill, but what about **pokémon type**?\n",
    "\n",
    "Some of the chosen pokémon may have the same type, as this data was ignored during clustering? But to get a really diverse team, we should take these into account!\n",
    "\n",
    "For this drill I want you to:\n",
    "- cluster the pokémon into 6 groups according to similar:\n",
    "    - weight\n",
    "    - height\n",
    "    - primary pokémon type\n",
    "    - secondary pokémon type\n",
    "- determine the most dissimilar pokemon team from these clusters\n",
    "\n",
    "But wait, these pokémon types, they're in **text format**, how do you compare these to the **numerical data**? It's time to **vectorize** this data. **Vectorizing** this textual data means representing this data in a way that can be understood by machine learning algorithms. \n",
    "\n",
    "For example, let's say there are only 3 pokémon types, and pokémon can only have one type. Vectorising a **grass**, **fire**, and **water** pokémon would look like this:\n",
    "- grass -> [1, 0, 0]\n",
    "- fire  -> [0, 1, 0]\n",
    "- water -> [0, 0, 1]\n",
    "\n",
    "So in this case, **3-dimensional** data. In our case though, we have a weight dimension, a height dimension, 18 primary and secondary dimensions, so a whopping **38 dimensions**"
   ]
  },
  {
   "cell_type": "markdown",
   "metadata": {},
   "source": [
    "### 3.1 Taking only values, bcoz most of sklearn modules expect arrays"
   ]
  },
  {
   "cell_type": "code",
   "execution_count": 28,
   "metadata": {},
   "outputs": [],
   "source": [
    "# vectorize your pokémon type data here (there are modules that vectorize data)\n",
    "pokemon_metric2 = df.loc[:,['height_m',\n",
    "'weight_kg','type1','type2']].values"
   ]
  },
  {
   "cell_type": "code",
   "execution_count": 29,
   "metadata": {},
   "outputs": [
    {
     "data": {
      "text/plain": [
       "array([[0.7, 6.9, 'grass', 'poison'],\n",
       "       [1.0, 13.0, 'grass', 'poison'],\n",
       "       [2.0, 100.0, 'grass', 'poison'],\n",
       "       ...,\n",
       "       [5.5, 888.0, 'dark', 'dragon'],\n",
       "       [2.4, 230.0, 'psychic', nan],\n",
       "       [1.0, 80.5, 'steel', 'fairy']], dtype=object)"
      ]
     },
     "execution_count": 29,
     "metadata": {},
     "output_type": "execute_result"
    }
   ],
   "source": [
    "pokemon_metric2"
   ]
  },
  {
   "cell_type": "markdown",
   "metadata": {},
   "source": [
    "## 3.2 PreProcessing Steps"
   ]
  },
  {
   "cell_type": "markdown",
   "metadata": {},
   "source": [
    "### 3.2.1 Dealing with Missing Values "
   ]
  },
  {
   "cell_type": "code",
   "execution_count": 30,
   "metadata": {},
   "outputs": [],
   "source": [
    "from sklearn.impute import SimpleImputer"
   ]
  },
  {
   "cell_type": "code",
   "execution_count": 31,
   "metadata": {},
   "outputs": [],
   "source": [
    "imputer = SimpleImputer(missing_values=np.nan, strategy='mean')"
   ]
  },
  {
   "cell_type": "code",
   "execution_count": 32,
   "metadata": {},
   "outputs": [
    {
     "data": {
      "text/plain": [
       "SimpleImputer()"
      ]
     },
     "execution_count": 32,
     "metadata": {},
     "output_type": "execute_result"
    }
   ],
   "source": [
    "imputer.fit(pokemon_metric2[:,:2])"
   ]
  },
  {
   "cell_type": "code",
   "execution_count": 33,
   "metadata": {},
   "outputs": [],
   "source": [
    "pokemon_metric2[:,:2] = imputer.transform(pokemon_metric2[:,:2])"
   ]
  },
  {
   "cell_type": "code",
   "execution_count": 34,
   "metadata": {},
   "outputs": [
    {
     "data": {
      "text/plain": [
       "array([[0.7, 6.9, 'grass', 'poison'],\n",
       "       [1.0, 13.0, 'grass', 'poison'],\n",
       "       [2.0, 100.0, 'grass', 'poison'],\n",
       "       ...,\n",
       "       [5.5, 888.0, 'dark', 'dragon'],\n",
       "       [2.4, 230.0, 'psychic', nan],\n",
       "       [1.0, 80.5, 'steel', 'fairy']], dtype=object)"
      ]
     },
     "execution_count": 34,
     "metadata": {},
     "output_type": "execute_result"
    }
   ],
   "source": [
    "pokemon_metric2"
   ]
  },
  {
   "cell_type": "code",
   "execution_count": 35,
   "metadata": {},
   "outputs": [],
   "source": [
    "string_imputer = SimpleImputer(missing_values=np.nan, strategy=\"most_frequent\")"
   ]
  },
  {
   "cell_type": "code",
   "execution_count": 36,
   "metadata": {},
   "outputs": [
    {
     "data": {
      "text/plain": [
       "SimpleImputer(strategy='most_frequent')"
      ]
     },
     "execution_count": 36,
     "metadata": {},
     "output_type": "execute_result"
    }
   ],
   "source": [
    "string_imputer.fit(pokemon_metric2[:,2:])"
   ]
  },
  {
   "cell_type": "code",
   "execution_count": 37,
   "metadata": {},
   "outputs": [],
   "source": [
    "pokemon_metric2[:,2:] = string_imputer.transform(pokemon_metric2[:,2:])"
   ]
  },
  {
   "cell_type": "code",
   "execution_count": 38,
   "metadata": {},
   "outputs": [
    {
     "data": {
      "text/plain": [
       "array([[0.7, 6.9, 'grass', 'poison'],\n",
       "       [1.0, 13.0, 'grass', 'poison'],\n",
       "       [2.0, 100.0, 'grass', 'poison'],\n",
       "       ...,\n",
       "       [5.5, 888.0, 'dark', 'dragon'],\n",
       "       [2.4, 230.0, 'psychic', 'flying'],\n",
       "       [1.0, 80.5, 'steel', 'fairy']], dtype=object)"
      ]
     },
     "execution_count": 38,
     "metadata": {},
     "output_type": "execute_result"
    }
   ],
   "source": [
    "pokemon_metric2"
   ]
  },
  {
   "cell_type": "markdown",
   "metadata": {},
   "source": [
    "## 3.2.2 Encoding Categorical Data"
   ]
  },
  {
   "cell_type": "code",
   "execution_count": 39,
   "metadata": {},
   "outputs": [],
   "source": [
    "from sklearn.compose import ColumnTransformer\n",
    "from sklearn.preprocessing import OneHotEncoder"
   ]
  },
  {
   "cell_type": "code",
   "execution_count": 40,
   "metadata": {},
   "outputs": [],
   "source": [
    "ct = ColumnTransformer(transformers=[('encoder',\n",
    "                                     OneHotEncoder(),[2,3])],remainder='passthrough')"
   ]
  },
  {
   "cell_type": "code",
   "execution_count": 41,
   "metadata": {},
   "outputs": [],
   "source": [
    "pokemon_metric2 = ct.fit_transform(pokemon_metric2)"
   ]
  },
  {
   "cell_type": "code",
   "execution_count": 42,
   "metadata": {},
   "outputs": [],
   "source": [
    "pokemon_metric2=pokemon_metric2.toarray()"
   ]
  },
  {
   "cell_type": "code",
   "execution_count": 43,
   "metadata": {},
   "outputs": [
    {
     "data": {
      "text/plain": [
       "array([[0.00e+00, 0.00e+00, 0.00e+00, ..., 0.00e+00, 7.00e-01, 6.90e+00],\n",
       "       [0.00e+00, 0.00e+00, 0.00e+00, ..., 0.00e+00, 1.00e+00, 1.30e+01],\n",
       "       [0.00e+00, 0.00e+00, 0.00e+00, ..., 0.00e+00, 2.00e+00, 1.00e+02],\n",
       "       ...,\n",
       "       [0.00e+00, 1.00e+00, 0.00e+00, ..., 0.00e+00, 5.50e+00, 8.88e+02],\n",
       "       [0.00e+00, 0.00e+00, 0.00e+00, ..., 0.00e+00, 2.40e+00, 2.30e+02],\n",
       "       [0.00e+00, 0.00e+00, 0.00e+00, ..., 0.00e+00, 1.00e+00, 8.05e+01]])"
      ]
     },
     "execution_count": 43,
     "metadata": {},
     "output_type": "execute_result"
    }
   ],
   "source": [
    "pokemon_metric2"
   ]
  },
  {
   "cell_type": "markdown",
   "metadata": {},
   "source": [
    "## 3.2.3 Feature Scaling"
   ]
  },
  {
   "cell_type": "code",
   "execution_count": 44,
   "metadata": {},
   "outputs": [],
   "source": [
    "from sklearn.preprocessing import StandardScaler"
   ]
  },
  {
   "cell_type": "code",
   "execution_count": 45,
   "metadata": {},
   "outputs": [],
   "source": [
    "sc = StandardScaler()"
   ]
  },
  {
   "cell_type": "code",
   "execution_count": 46,
   "metadata": {},
   "outputs": [
    {
     "data": {
      "text/plain": [
       "array([[7.00e-01, 6.90e+00],\n",
       "       [1.00e+00, 1.30e+01],\n",
       "       [2.00e+00, 1.00e+02],\n",
       "       ...,\n",
       "       [5.50e+00, 8.88e+02],\n",
       "       [2.40e+00, 2.30e+02],\n",
       "       [1.00e+00, 8.05e+01]])"
      ]
     },
     "execution_count": 46,
     "metadata": {},
     "output_type": "execute_result"
    }
   ],
   "source": [
    "pokemon_metric2[:,-2:]"
   ]
  },
  {
   "cell_type": "code",
   "execution_count": 47,
   "metadata": {},
   "outputs": [],
   "source": [
    "pokemon_metric2[:,-2:] = sc.fit_transform(pokemon_metric2[:,-2:])"
   ]
  },
  {
   "cell_type": "markdown",
   "metadata": {},
   "source": [
    "## 3.3 clustering in KMeans"
   ]
  },
  {
   "cell_type": "code",
   "execution_count": 48,
   "metadata": {},
   "outputs": [],
   "source": [
    "kmeans2 = KMeans(n_clusters=6, init='k-means++').fit(pokemon_metric2)"
   ]
  },
  {
   "cell_type": "code",
   "execution_count": 49,
   "metadata": {},
   "outputs": [],
   "source": [
    "cluster_center2 = kmeans2.cluster_centers_"
   ]
  },
  {
   "cell_type": "code",
   "execution_count": 60,
   "metadata": {},
   "outputs": [
    {
     "data": {
      "text/plain": [
       "(6, 38)"
      ]
     },
     "execution_count": 60,
     "metadata": {},
     "output_type": "execute_result"
    }
   ],
   "source": [
    "cluster_center2.shape"
   ]
  },
  {
   "cell_type": "code",
   "execution_count": 50,
   "metadata": {},
   "outputs": [],
   "source": [
    "cluster_labels2 = pd.Series(kmeans2.labels_,name='cluster')"
   ]
  },
  {
   "cell_type": "markdown",
   "metadata": {},
   "source": [
    "## 3.3 OBT"
   ]
  },
  {
   "cell_type": "code",
   "execution_count": 51,
   "metadata": {},
   "outputs": [],
   "source": [
    "pokemon_metric3 = df.loc[:,['height_m',\n",
    "'weight_kg','type1','type2']]"
   ]
  },
  {
   "cell_type": "code",
   "execution_count": 52,
   "metadata": {},
   "outputs": [
    {
     "data": {
      "text/html": [
       "<div>\n",
       "<style scoped>\n",
       "    .dataframe tbody tr th:only-of-type {\n",
       "        vertical-align: middle;\n",
       "    }\n",
       "\n",
       "    .dataframe tbody tr th {\n",
       "        vertical-align: top;\n",
       "    }\n",
       "\n",
       "    .dataframe thead th {\n",
       "        text-align: right;\n",
       "    }\n",
       "</style>\n",
       "<table border=\"1\" class=\"dataframe\">\n",
       "  <thead>\n",
       "    <tr style=\"text-align: right;\">\n",
       "      <th></th>\n",
       "      <th>height_m</th>\n",
       "      <th>weight_kg</th>\n",
       "      <th>type1</th>\n",
       "      <th>type2</th>\n",
       "    </tr>\n",
       "  </thead>\n",
       "  <tbody>\n",
       "    <tr>\n",
       "      <th>0</th>\n",
       "      <td>0.7</td>\n",
       "      <td>6.9</td>\n",
       "      <td>grass</td>\n",
       "      <td>poison</td>\n",
       "    </tr>\n",
       "    <tr>\n",
       "      <th>1</th>\n",
       "      <td>1.0</td>\n",
       "      <td>13.0</td>\n",
       "      <td>grass</td>\n",
       "      <td>poison</td>\n",
       "    </tr>\n",
       "    <tr>\n",
       "      <th>2</th>\n",
       "      <td>2.0</td>\n",
       "      <td>100.0</td>\n",
       "      <td>grass</td>\n",
       "      <td>poison</td>\n",
       "    </tr>\n",
       "    <tr>\n",
       "      <th>3</th>\n",
       "      <td>0.6</td>\n",
       "      <td>8.5</td>\n",
       "      <td>fire</td>\n",
       "      <td>NaN</td>\n",
       "    </tr>\n",
       "    <tr>\n",
       "      <th>4</th>\n",
       "      <td>1.1</td>\n",
       "      <td>19.0</td>\n",
       "      <td>fire</td>\n",
       "      <td>NaN</td>\n",
       "    </tr>\n",
       "    <tr>\n",
       "      <th>...</th>\n",
       "      <td>...</td>\n",
       "      <td>...</td>\n",
       "      <td>...</td>\n",
       "      <td>...</td>\n",
       "    </tr>\n",
       "    <tr>\n",
       "      <th>796</th>\n",
       "      <td>9.2</td>\n",
       "      <td>999.9</td>\n",
       "      <td>steel</td>\n",
       "      <td>flying</td>\n",
       "    </tr>\n",
       "    <tr>\n",
       "      <th>797</th>\n",
       "      <td>0.3</td>\n",
       "      <td>0.1</td>\n",
       "      <td>grass</td>\n",
       "      <td>steel</td>\n",
       "    </tr>\n",
       "    <tr>\n",
       "      <th>798</th>\n",
       "      <td>5.5</td>\n",
       "      <td>888.0</td>\n",
       "      <td>dark</td>\n",
       "      <td>dragon</td>\n",
       "    </tr>\n",
       "    <tr>\n",
       "      <th>799</th>\n",
       "      <td>2.4</td>\n",
       "      <td>230.0</td>\n",
       "      <td>psychic</td>\n",
       "      <td>NaN</td>\n",
       "    </tr>\n",
       "    <tr>\n",
       "      <th>800</th>\n",
       "      <td>1.0</td>\n",
       "      <td>80.5</td>\n",
       "      <td>steel</td>\n",
       "      <td>fairy</td>\n",
       "    </tr>\n",
       "  </tbody>\n",
       "</table>\n",
       "<p>801 rows × 4 columns</p>\n",
       "</div>"
      ],
      "text/plain": [
       "     height_m  weight_kg    type1   type2\n",
       "0         0.7        6.9    grass  poison\n",
       "1         1.0       13.0    grass  poison\n",
       "2         2.0      100.0    grass  poison\n",
       "3         0.6        8.5     fire     NaN\n",
       "4         1.1       19.0     fire     NaN\n",
       "..        ...        ...      ...     ...\n",
       "796       9.2      999.9    steel  flying\n",
       "797       0.3        0.1    grass   steel\n",
       "798       5.5      888.0     dark  dragon\n",
       "799       2.4      230.0  psychic     NaN\n",
       "800       1.0       80.5    steel   fairy\n",
       "\n",
       "[801 rows x 4 columns]"
      ]
     },
     "execution_count": 52,
     "metadata": {},
     "output_type": "execute_result"
    }
   ],
   "source": [
    "pokemon_metric3"
   ]
  },
  {
   "cell_type": "markdown",
   "metadata": {},
   "source": [
    "## 3.3.1 PP steps "
   ]
  },
  {
   "cell_type": "code",
   "execution_count": 53,
   "metadata": {},
   "outputs": [],
   "source": [
    "pokemon_metric3['weight_kg'] = pokemon_metric3['weight_kg'].replace(np.nan,pokemon_metric3['weight_kg'].mean())\n",
    "pokemon_metric3['height_m'] = pokemon_metric3['height_m'].replace(np.nan,pokemon_metric3['height_m'].mean())\n",
    "pokemon_metric3['type2'] = pokemon_metric3['type2'].fillna(pokemon_metric3['type2'].value_counts().keys()[0])"
   ]
  },
  {
   "cell_type": "code",
   "execution_count": 54,
   "metadata": {},
   "outputs": [
    {
     "data": {
      "text/html": [
       "<div>\n",
       "<style scoped>\n",
       "    .dataframe tbody tr th:only-of-type {\n",
       "        vertical-align: middle;\n",
       "    }\n",
       "\n",
       "    .dataframe tbody tr th {\n",
       "        vertical-align: top;\n",
       "    }\n",
       "\n",
       "    .dataframe thead th {\n",
       "        text-align: right;\n",
       "    }\n",
       "</style>\n",
       "<table border=\"1\" class=\"dataframe\">\n",
       "  <thead>\n",
       "    <tr style=\"text-align: right;\">\n",
       "      <th></th>\n",
       "      <th>height_m</th>\n",
       "      <th>weight_kg</th>\n",
       "      <th>type1</th>\n",
       "      <th>type2</th>\n",
       "    </tr>\n",
       "  </thead>\n",
       "  <tbody>\n",
       "    <tr>\n",
       "      <th>0</th>\n",
       "      <td>0.7</td>\n",
       "      <td>6.9</td>\n",
       "      <td>grass</td>\n",
       "      <td>poison</td>\n",
       "    </tr>\n",
       "    <tr>\n",
       "      <th>1</th>\n",
       "      <td>1.0</td>\n",
       "      <td>13.0</td>\n",
       "      <td>grass</td>\n",
       "      <td>poison</td>\n",
       "    </tr>\n",
       "    <tr>\n",
       "      <th>2</th>\n",
       "      <td>2.0</td>\n",
       "      <td>100.0</td>\n",
       "      <td>grass</td>\n",
       "      <td>poison</td>\n",
       "    </tr>\n",
       "    <tr>\n",
       "      <th>3</th>\n",
       "      <td>0.6</td>\n",
       "      <td>8.5</td>\n",
       "      <td>fire</td>\n",
       "      <td>flying</td>\n",
       "    </tr>\n",
       "    <tr>\n",
       "      <th>4</th>\n",
       "      <td>1.1</td>\n",
       "      <td>19.0</td>\n",
       "      <td>fire</td>\n",
       "      <td>flying</td>\n",
       "    </tr>\n",
       "    <tr>\n",
       "      <th>...</th>\n",
       "      <td>...</td>\n",
       "      <td>...</td>\n",
       "      <td>...</td>\n",
       "      <td>...</td>\n",
       "    </tr>\n",
       "    <tr>\n",
       "      <th>796</th>\n",
       "      <td>9.2</td>\n",
       "      <td>999.9</td>\n",
       "      <td>steel</td>\n",
       "      <td>flying</td>\n",
       "    </tr>\n",
       "    <tr>\n",
       "      <th>797</th>\n",
       "      <td>0.3</td>\n",
       "      <td>0.1</td>\n",
       "      <td>grass</td>\n",
       "      <td>steel</td>\n",
       "    </tr>\n",
       "    <tr>\n",
       "      <th>798</th>\n",
       "      <td>5.5</td>\n",
       "      <td>888.0</td>\n",
       "      <td>dark</td>\n",
       "      <td>dragon</td>\n",
       "    </tr>\n",
       "    <tr>\n",
       "      <th>799</th>\n",
       "      <td>2.4</td>\n",
       "      <td>230.0</td>\n",
       "      <td>psychic</td>\n",
       "      <td>flying</td>\n",
       "    </tr>\n",
       "    <tr>\n",
       "      <th>800</th>\n",
       "      <td>1.0</td>\n",
       "      <td>80.5</td>\n",
       "      <td>steel</td>\n",
       "      <td>fairy</td>\n",
       "    </tr>\n",
       "  </tbody>\n",
       "</table>\n",
       "<p>801 rows × 4 columns</p>\n",
       "</div>"
      ],
      "text/plain": [
       "     height_m  weight_kg    type1   type2\n",
       "0         0.7        6.9    grass  poison\n",
       "1         1.0       13.0    grass  poison\n",
       "2         2.0      100.0    grass  poison\n",
       "3         0.6        8.5     fire  flying\n",
       "4         1.1       19.0     fire  flying\n",
       "..        ...        ...      ...     ...\n",
       "796       9.2      999.9    steel  flying\n",
       "797       0.3        0.1    grass   steel\n",
       "798       5.5      888.0     dark  dragon\n",
       "799       2.4      230.0  psychic  flying\n",
       "800       1.0       80.5    steel   fairy\n",
       "\n",
       "[801 rows x 4 columns]"
      ]
     },
     "execution_count": 54,
     "metadata": {},
     "output_type": "execute_result"
    }
   ],
   "source": [
    "pokemon_metric3"
   ]
  },
  {
   "cell_type": "code",
   "execution_count": 55,
   "metadata": {},
   "outputs": [],
   "source": [
    "pokemon_metric3_std = (pokemon_metric3[['weight_kg','height_m']]-pokemon_metric3[['weight_kg','height_m']].mean())/pokemon_metric3[['weight_kg','height_m']].std()"
   ]
  },
  {
   "cell_type": "code",
   "execution_count": 56,
   "metadata": {},
   "outputs": [],
   "source": [
    " pokemon_metric3_std=pokemon_metric3_std.join(cluster_labels2.to_frame())"
   ]
  },
  {
   "cell_type": "code",
   "execution_count": 57,
   "metadata": {},
   "outputs": [
    {
     "data": {
      "text/html": [
       "<div>\n",
       "<style scoped>\n",
       "    .dataframe tbody tr th:only-of-type {\n",
       "        vertical-align: middle;\n",
       "    }\n",
       "\n",
       "    .dataframe tbody tr th {\n",
       "        vertical-align: top;\n",
       "    }\n",
       "\n",
       "    .dataframe thead th {\n",
       "        text-align: right;\n",
       "    }\n",
       "</style>\n",
       "<table border=\"1\" class=\"dataframe\">\n",
       "  <thead>\n",
       "    <tr style=\"text-align: right;\">\n",
       "      <th></th>\n",
       "      <th>weight_kg</th>\n",
       "      <th>height_m</th>\n",
       "      <th>cluster</th>\n",
       "    </tr>\n",
       "  </thead>\n",
       "  <tbody>\n",
       "    <tr>\n",
       "      <th>0</th>\n",
       "      <td>-0.504524</td>\n",
       "      <td>-0.434871</td>\n",
       "      <td>5</td>\n",
       "    </tr>\n",
       "    <tr>\n",
       "      <th>1</th>\n",
       "      <td>-0.448032</td>\n",
       "      <td>-0.153639</td>\n",
       "      <td>5</td>\n",
       "    </tr>\n",
       "    <tr>\n",
       "      <th>2</th>\n",
       "      <td>0.357679</td>\n",
       "      <td>0.783799</td>\n",
       "      <td>5</td>\n",
       "    </tr>\n",
       "    <tr>\n",
       "      <th>3</th>\n",
       "      <td>-0.489706</td>\n",
       "      <td>-0.528614</td>\n",
       "      <td>1</td>\n",
       "    </tr>\n",
       "    <tr>\n",
       "      <th>4</th>\n",
       "      <td>-0.392466</td>\n",
       "      <td>-0.059895</td>\n",
       "      <td>1</td>\n",
       "    </tr>\n",
       "    <tr>\n",
       "      <th>...</th>\n",
       "      <td>...</td>\n",
       "      <td>...</td>\n",
       "      <td>...</td>\n",
       "    </tr>\n",
       "    <tr>\n",
       "      <th>796</th>\n",
       "      <td>8.691693</td>\n",
       "      <td>7.533356</td>\n",
       "      <td>3</td>\n",
       "    </tr>\n",
       "    <tr>\n",
       "      <th>797</th>\n",
       "      <td>-0.567499</td>\n",
       "      <td>-0.809846</td>\n",
       "      <td>5</td>\n",
       "    </tr>\n",
       "    <tr>\n",
       "      <th>798</th>\n",
       "      <td>7.655382</td>\n",
       "      <td>4.064834</td>\n",
       "      <td>3</td>\n",
       "    </tr>\n",
       "    <tr>\n",
       "      <th>799</th>\n",
       "      <td>1.561615</td>\n",
       "      <td>1.158775</td>\n",
       "      <td>4</td>\n",
       "    </tr>\n",
       "    <tr>\n",
       "      <th>800</th>\n",
       "      <td>0.177089</td>\n",
       "      <td>-0.153639</td>\n",
       "      <td>5</td>\n",
       "    </tr>\n",
       "  </tbody>\n",
       "</table>\n",
       "<p>801 rows × 3 columns</p>\n",
       "</div>"
      ],
      "text/plain": [
       "     weight_kg  height_m  cluster\n",
       "0    -0.504524 -0.434871        5\n",
       "1    -0.448032 -0.153639        5\n",
       "2     0.357679  0.783799        5\n",
       "3    -0.489706 -0.528614        1\n",
       "4    -0.392466 -0.059895        1\n",
       "..         ...       ...      ...\n",
       "796   8.691693  7.533356        3\n",
       "797  -0.567499 -0.809846        5\n",
       "798   7.655382  4.064834        3\n",
       "799   1.561615  1.158775        4\n",
       "800   0.177089 -0.153639        5\n",
       "\n",
       "[801 rows x 3 columns]"
      ]
     },
     "execution_count": 57,
     "metadata": {},
     "output_type": "execute_result"
    }
   ],
   "source": [
    "pokemon_metric3_std"
   ]
  },
  {
   "cell_type": "code",
   "execution_count": 58,
   "metadata": {},
   "outputs": [],
   "source": [
    "# determine your unique team here\n",
    "def distance_to_other_clusters(single_pokemon):\n",
    "    metric = np.array(single_pokemon[['height_m','weight_kg']])\n",
    "    cluster_number = round(single_pokemon['cluster'])\n",
    "    distance = 0\n",
    "    for cluster_index in range(0, len(cluster_center2[:,-2:])):\n",
    "        if cluster_index == cluster_number:\n",
    "            continue\n",
    "        center = cluster_center2[:,-2:][cluster_index]\n",
    "        distance += (np.abs(sum(metric - center)))#Manhattan distance\n",
    "        \n",
    "    return distance\n",
    "\n",
    "# evaluate all pokemon\n",
    "pokemon_dissimilarity = pokemon_metric3_std.apply(distance_to_other_clusters, axis=1)\n",
    "pokemon_dissimilarity = pokemon_dissimilarity.rename('dissimilarity')\n",
    "\n",
    "# join to other metrics\n",
    "pokemon_processed = pokemon_metric3_std.join(pokemon_dissimilarity.to_frame()).join(df['name'].to_frame())\n",
    "\n",
    "# pick most dissimilar pokemon per cluster\n",
    "chosen_pokemon2 = pd.DataFrame()\n",
    "for cluster_index in range(0, len(cluster_center2)):\n",
    "    pokemon_cluster = pokemon_processed[pokemon_processed['cluster'] == cluster_index]\n",
    "    chosen_pokemon2 = chosen_pokemon2.append(pokemon_cluster[pokemon_cluster['dissimilarity']==pokemon_cluster['dissimilarity'].max()])"
   ]
  },
  {
   "cell_type": "code",
   "execution_count": 59,
   "metadata": {},
   "outputs": [
    {
     "data": {
      "text/html": [
       "<div>\n",
       "<style scoped>\n",
       "    .dataframe tbody tr th:only-of-type {\n",
       "        vertical-align: middle;\n",
       "    }\n",
       "\n",
       "    .dataframe tbody tr th {\n",
       "        vertical-align: top;\n",
       "    }\n",
       "\n",
       "    .dataframe thead th {\n",
       "        text-align: right;\n",
       "    }\n",
       "</style>\n",
       "<table border=\"1\" class=\"dataframe\">\n",
       "  <thead>\n",
       "    <tr style=\"text-align: right;\">\n",
       "      <th></th>\n",
       "      <th>weight_kg</th>\n",
       "      <th>height_m</th>\n",
       "      <th>cluster</th>\n",
       "      <th>dissimilarity</th>\n",
       "      <th>name</th>\n",
       "    </tr>\n",
       "  </thead>\n",
       "  <tbody>\n",
       "    <tr>\n",
       "      <th>732</th>\n",
       "      <td>-0.327638</td>\n",
       "      <td>-0.059895</td>\n",
       "      <td>0</td>\n",
       "      <td>23.923016</td>\n",
       "      <td>Toucannon</td>\n",
       "    </tr>\n",
       "    <tr>\n",
       "      <th>668</th>\n",
       "      <td>-0.567499</td>\n",
       "      <td>-0.997334</td>\n",
       "      <td>1</td>\n",
       "      <td>30.068034</td>\n",
       "      <td>Flabébé</td>\n",
       "    </tr>\n",
       "    <tr>\n",
       "      <th>320</th>\n",
       "      <td>3.117470</td>\n",
       "      <td>12.501780</td>\n",
       "      <td>2</td>\n",
       "      <td>65.295916</td>\n",
       "      <td>Wailord</td>\n",
       "    </tr>\n",
       "    <tr>\n",
       "      <th>796</th>\n",
       "      <td>8.691693</td>\n",
       "      <td>7.533356</td>\n",
       "      <td>3</td>\n",
       "      <td>70.460107</td>\n",
       "      <td>Celesteela</td>\n",
       "    </tr>\n",
       "    <tr>\n",
       "      <th>381</th>\n",
       "      <td>2.691462</td>\n",
       "      <td>3.127395</td>\n",
       "      <td>4</td>\n",
       "      <td>25.863954</td>\n",
       "      <td>Kyogre</td>\n",
       "    </tr>\n",
       "    <tr>\n",
       "      <th>741</th>\n",
       "      <td>-0.566573</td>\n",
       "      <td>-0.997334</td>\n",
       "      <td>5</td>\n",
       "      <td>29.499468</td>\n",
       "      <td>Cutiefly</td>\n",
       "    </tr>\n",
       "  </tbody>\n",
       "</table>\n",
       "</div>"
      ],
      "text/plain": [
       "     weight_kg   height_m  cluster  dissimilarity        name\n",
       "732  -0.327638  -0.059895        0      23.923016   Toucannon\n",
       "668  -0.567499  -0.997334        1      30.068034     Flabébé\n",
       "320   3.117470  12.501780        2      65.295916     Wailord\n",
       "796   8.691693   7.533356        3      70.460107  Celesteela\n",
       "381   2.691462   3.127395        4      25.863954      Kyogre\n",
       "741  -0.566573  -0.997334        5      29.499468    Cutiefly"
      ]
     },
     "execution_count": 59,
     "metadata": {},
     "output_type": "execute_result"
    }
   ],
   "source": [
    "chosen_pokemon2"
   ]
  },
  {
   "cell_type": "markdown",
   "metadata": {},
   "source": [
    "But wait, did you properly **normalize** your data? If you simply vectorize your data like in the example shown above, you might not get the results you want (try this for yourselves, what do you notice?).\n",
    "\n",
    "The example normalizes its data using the **z-score**. What does this mean? z-score or mean normalization means we are using our **problem space** where our data lives optimally. \n",
    "\n",
    "in the case of the pokemon weight and height, it was clear to see the **order of magnitude** of the weight is larger than that of the height. During clustering, this would mean that **weight similarity would matter more than height similarity**, since the euclidian distance between points of data would be larger.\n",
    "\n",
    "For example, A pokemon weighing 200kg and measuring 4m is about **as similar** as another pokémon weighing 100kg and measuring 2m in terms of both weight and height. But the euclidian difference in between the weight difference is 100(kg), while the difference of height is only 2(m). That is where normalization comes in handy. It scales these metrics so they can be compared fairly.\n",
    "\n",
    "Which is why when we vectorize out **pokémon types** into vectors of length one, the **euclidian distance** between one pokémon type and the other is about 1.4 (thanks Pythagoras), which isn't that much compared to the weight and height difference.\n",
    "\n",
    "Show me how you would **make sure** that **similarity or dissimilarity** of the **pokémon type** matters more than **weight or height**?"
   ]
  },
  {
   "cell_type": "code",
   "execution_count": null,
   "metadata": {},
   "outputs": [],
   "source": [
    "# normalize and scale your data in such a way that pokémon type similarity matters more than the other metrics"
   ]
  },
  {
   "cell_type": "code",
   "execution_count": null,
   "metadata": {},
   "outputs": [],
   "source": []
  },
  {
   "cell_type": "markdown",
   "metadata": {},
   "source": [
    "## 4. Cluster method comparison\n",
    "\n",
    "I hope you're getting a bit more comfortable with the **k-means** method, it sure is a popular one, but it's [not the only clustering technique](https://scikit-learn.org/stable/modules/clustering.html) out there!\n",
    "\n",
    "For this excercise, I want you to:\n",
    "- pick 3 clustering techniques from the `scikit-learn` library\n",
    "- cluster the pokémon according weight and height\n",
    "- try to adjust the cluster method arguments so 6 clusters are obtained after clustering\n",
    "- evaluate in-cluster similarity and cluster-to-cluster similarity:\n",
    "  - compare every pokémon in a cluster to every other pokémon within that same cluster (choose your own similarity criteria)\n",
    "  - take the average of these in-cluster similarities\n",
    "  - do this for every cluster\n",
    "  - take the the average or centroid of ever cluster, and determine the similarity to every other cluster\n",
    "  - compare these two metrics (in-cluster similarity and cluster-to-cluster similarity) for every chosen clustering technique\n",
    "  - determine the 'best' technique by maximising in-cluster similarity and minimizing cluster-to-cluster similarity\n",
    "- visualize the results\n",
    "\n",
    "Bonus: track these metrics for every iteration of the algorithms and plot the progression from start to finish"
   ]
  },
  {
   "cell_type": "markdown",
   "metadata": {},
   "source": [
    "## 4.1 DBSCAN "
   ]
  },
  {
   "cell_type": "code",
   "execution_count": 61,
   "metadata": {},
   "outputs": [],
   "source": [
    "x = df.loc[:, ['height_m','weight_kg']]"
   ]
  },
  {
   "cell_type": "code",
   "execution_count": 62,
   "metadata": {},
   "outputs": [],
   "source": [
    "from sklearn.impute import SimpleImputer "
   ]
  },
  {
   "cell_type": "code",
   "execution_count": 63,
   "metadata": {},
   "outputs": [],
   "source": [
    "imputer = SimpleImputer(missing_values=np.nan, strategy='mean')"
   ]
  },
  {
   "cell_type": "code",
   "execution_count": 64,
   "metadata": {},
   "outputs": [
    {
     "data": {
      "text/plain": [
       "SimpleImputer()"
      ]
     },
     "execution_count": 64,
     "metadata": {},
     "output_type": "execute_result"
    }
   ],
   "source": [
    "imputer.fit(x)"
   ]
  },
  {
   "cell_type": "code",
   "execution_count": 65,
   "metadata": {},
   "outputs": [],
   "source": [
    "x = imputer.transform(x)"
   ]
  },
  {
   "cell_type": "code",
   "execution_count": 66,
   "metadata": {},
   "outputs": [],
   "source": [
    "from sklearn.cluster import DBSCAN"
   ]
  },
  {
   "cell_type": "code",
   "execution_count": 67,
   "metadata": {},
   "outputs": [],
   "source": [
    "dbscan = DBSCAN(eps=3,min_samples=4) # by default euclidean metric is used"
   ]
  },
  {
   "cell_type": "code",
   "execution_count": 68,
   "metadata": {},
   "outputs": [],
   "source": [
    "model = dbscan.fit(x)"
   ]
  },
  {
   "cell_type": "code",
   "execution_count": 69,
   "metadata": {},
   "outputs": [],
   "source": [
    "cls_centers = model.core_sample_indices_"
   ]
  },
  {
   "cell_type": "code",
   "execution_count": 70,
   "metadata": {},
   "outputs": [],
   "source": [
    "labels = model.labels_"
   ]
  },
  {
   "cell_type": "code",
   "execution_count": 71,
   "metadata": {},
   "outputs": [
    {
     "data": {
      "text/plain": [
       "array([ 0,  0,  1,  0,  0,  1,  0,  0,  1,  0,  0,  0,  0,  0,  0,  0,  0,\n",
       "        0,  0,  0,  0,  0,  0,  0,  0,  0,  0,  0,  0,  0,  0,  0,  0,  0,\n",
       "        0,  0,  0,  0,  0,  0,  0,  0,  0,  0,  0,  0,  0,  0,  0,  0,  0,\n",
       "        0,  0,  0,  1,  0,  0,  0,  4,  0,  0,  0,  0,  0,  0,  0,  0,  2,\n",
       "        0,  0,  0,  0,  0,  0,  0,  0,  0,  1,  0,  1,  0,  0,  0,  0,  1,\n",
       "        1,  3,  0,  0,  0,  2,  0,  0,  0, -1,  0,  1,  0,  0,  0,  0,  0,\n",
       "        0,  0,  0,  0,  0,  0,  0,  0, -1,  3,  0,  0,  1,  0,  0,  0,  0,\n",
       "        0,  1,  0,  0,  0,  0,  0,  0,  1,  0, -1, -1,  0,  0,  0,  0,  0,\n",
       "        0,  0,  0,  0,  0,  0, -1,  0,  0,  0,  0,  0, -1,  3,  0,  0,  0,\n",
       "        1,  0,  0,  1,  0,  0,  1,  0,  0,  0,  0,  0,  0,  0,  0,  1,  0,\n",
       "        0,  0,  0,  0,  0,  0,  0,  0,  0,  0,  0,  0,  0,  0,  0,  0,  0,\n",
       "        0,  0,  0,  0,  0,  0,  0,  1,  0,  0,  0,  1,  0,  0,  0,  0,  0,\n",
       "        2,  0,  0, -1,  0,  0,  0,  3,  0,  0,  0,  0,  2,  0,  0,  0,  0,\n",
       "        0,  0,  0,  0, -1,  0,  0,  0,  4,  0,  3,  0,  0,  0,  0,  0,  0,\n",
       "        0,  0,  1,  0, -1,  5, -1,  0,  4,  5, -1,  5,  0,  0,  0,  0,  0,\n",
       "        0,  0,  0,  0,  1,  0,  0,  0,  0,  0,  0,  0,  0,  0,  0,  0,  0,\n",
       "        0,  0,  0,  0,  0,  0,  0,  0,  0,  0,  0,  0,  0,  0,  0,  0,  2,\n",
       "        0,  0,  0,  0,  0,  1,  1, -1,  0,  1,  0,  0,  0,  0,  0,  3, -1,\n",
       "        0,  0,  0,  0,  0,  0,  0,  0,  0,  0,  1,  0,  1,  2, -1,  0, -1,\n",
       "        1,  0,  0,  0,  0,  0,  1,  0,  1,  0,  0,  0,  0, -1,  4,  0,  0,\n",
       "        0,  0,  0,  1,  0,  0,  0,  0,  0, -1,  0,  0,  0,  0,  0,  0,  1,\n",
       "        0,  0,  0,  0, -1,  0,  1,  4,  0,  0,  0,  0,  0,  0,  1,  1,  1,\n",
       "        5, -1, -1, -1,  5,  0,  0, -1, -1, -1,  0,  0,  0,  1, -1,  0,  0,\n",
       "        0,  0,  0,  1,  0,  0,  0,  0,  0,  0,  0,  0,  0,  0,  0,  0,  0,\n",
       "        1,  0,  4,  0,  0,  0,  0,  0,  0,  0,  0,  0,  0,  0,  0,  0,  0,\n",
       "        0,  0,  0,  0,  0,  0,  0,  0,  0,  0,  0, -1,  0,  0,  0,  0,  1,\n",
       "        0,  0,  1,  1,  0,  0,  0, -1,  0,  0,  0,  0,  0,  0,  0,  0,  0,\n",
       "        2,  0, -1,  2, -1,  2,  2,  0,  0,  0,  0,  0,  0, -1,  0,  0, -1,\n",
       "        1,  0,  0,  0,  0,  0, -1, -1, -1, -1, -1,  1,  0,  0,  0,  0, -1,\n",
       "        0,  0,  0,  0,  0,  0,  4,  0,  0,  1,  0,  0,  0,  0,  0,  0,  0,\n",
       "        0,  0,  0,  0,  0,  0,  0,  0,  0,  0,  0,  0,  1,  0,  1, -1,  0,\n",
       "        0,  0,  0,  0,  0,  0,  1,  0,  0,  0,  0,  0,  0,  0,  0,  0,  0,\n",
       "        5,  0,  0,  0,  0,  0,  0,  0,  1,  0,  1,  0,  0,  5,  0,  0,  0,\n",
       "        0,  1,  0,  1,  0,  0,  0,  1,  0,  1,  0,  0,  0,  0,  0,  0,  0,\n",
       "        0,  0,  0,  0,  0,  0,  0,  1,  0,  0,  0,  0,  0,  0,  2,  0,  0,\n",
       "        0,  0,  1,  0,  0,  1,  0,  0,  1,  0,  0,  0,  0,  0,  0,  0,  1,\n",
       "        0, -1,  4,  0,  0,  0,  0,  0,  2,  1, -1,  0,  0,  1,  0,  0,  0,\n",
       "        0,  0,  0,  0,  0, -1,  0,  0, -1, -1,  5,  0,  0, -1, -1,  0, -1,\n",
       "        0,  0,  1,  0,  0,  1,  0,  0,  0,  0,  0,  0,  0,  0,  0,  0,  0,\n",
       "        0,  0,  0,  0,  1,  0,  0,  0,  0,  1,  0,  2,  0,  0,  0,  0,  0,\n",
       "        0,  0,  0,  0,  0,  0,  0,  0,  1,  0,  1,  0,  0,  0,  0,  0, -1,\n",
       "        0, -1,  0,  0,  0,  0,  0,  0,  4,  0,  0,  0,  0,  0,  1, -1,  0,\n",
       "        1, -1, -1, -1,  0,  0, -1,  0,  0,  0,  0,  0,  1,  0,  0,  0,  0,\n",
       "        0,  0,  0,  0,  0,  0,  0,  0, -1,  0,  0,  0,  0,  0,  0,  0,  0,\n",
       "        1, -1,  0,  1,  0,  0,  0,  0,  0,  0,  0,  2,  0,  0,  0,  0,  1,\n",
       "        1,  0,  1,  0, -1,  0,  3,  1,  0,  0, -1,  0,  0,  0, -1, -1,  0,\n",
       "        0,  1,  0,  0,  0,  0,  0, -1, -1,  3,  0, -1,  0,  1, -1,  0, -1,\n",
       "       -1,  1], dtype=int64)"
      ]
     },
     "execution_count": 71,
     "metadata": {},
     "output_type": "execute_result"
    }
   ],
   "source": [
    "labels"
   ]
  },
  {
   "cell_type": "code",
   "execution_count": 72,
   "metadata": {},
   "outputs": [],
   "source": [
    "clust_lbl = pd.Series(model.labels_,name='cluster')"
   ]
  },
  {
   "cell_type": "code",
   "execution_count": 73,
   "metadata": {},
   "outputs": [
    {
     "data": {
      "text/plain": [
       "array([[7.00e-01, 6.90e+00],\n",
       "       [1.00e+00, 1.30e+01],\n",
       "       [2.00e+00, 1.00e+02],\n",
       "       ...,\n",
       "       [5.50e+00, 8.88e+02],\n",
       "       [2.40e+00, 2.30e+02],\n",
       "       [1.00e+00, 8.05e+01]])"
      ]
     },
     "execution_count": 73,
     "metadata": {},
     "output_type": "execute_result"
    }
   ],
   "source": [
    "x"
   ]
  },
  {
   "cell_type": "code",
   "execution_count": 74,
   "metadata": {},
   "outputs": [],
   "source": [
    "y = df[['height_m','weight_kg']].join(clust_lbl.to_frame())"
   ]
  },
  {
   "cell_type": "code",
   "execution_count": 75,
   "metadata": {},
   "outputs": [
    {
     "data": {
      "text/plain": [
       "<seaborn.axisgrid.PairGrid at 0x208e24a8c10>"
      ]
     },
     "execution_count": 75,
     "metadata": {},
     "output_type": "execute_result"
    },
    {
     "data": {
      "image/png": "[encoded data removed]",
      "text/plain": [
       "<Figure size 410.75x360 with 6 Axes>"
      ]
     },
     "metadata": {
      "needs_background": "light"
     },
     "output_type": "display_data"
    }
   ],
   "source": [
    "sns.pairplot(data=y,vars=['height_m','weight_kg'], hue='cluster')"
   ]
  },
  {
   "cell_type": "code",
   "execution_count": 76,
   "metadata": {},
   "outputs": [],
   "source": [
    "x_std = df.loc[:,['height_m','weight_kg']]"
   ]
  },
  {
   "cell_type": "code",
   "execution_count": 77,
   "metadata": {},
   "outputs": [
    {
     "data": {
      "text/plain": [
       "SimpleImputer()"
      ]
     },
     "execution_count": 77,
     "metadata": {},
     "output_type": "execute_result"
    }
   ],
   "source": [
    "imputer.fit(x_std)"
   ]
  },
  {
   "cell_type": "code",
   "execution_count": 78,
   "metadata": {},
   "outputs": [],
   "source": [
    "x_std = imputer.transform(x_std)"
   ]
  },
  {
   "cell_type": "code",
   "execution_count": 79,
   "metadata": {},
   "outputs": [
    {
     "data": {
      "text/plain": [
       "array([[7.00e-01, 6.90e+00],\n",
       "       [1.00e+00, 1.30e+01],\n",
       "       [2.00e+00, 1.00e+02],\n",
       "       ...,\n",
       "       [5.50e+00, 8.88e+02],\n",
       "       [2.40e+00, 2.30e+02],\n",
       "       [1.00e+00, 8.05e+01]])"
      ]
     },
     "execution_count": 79,
     "metadata": {},
     "output_type": "execute_result"
    }
   ],
   "source": [
    "x_std"
   ]
  },
  {
   "cell_type": "code",
   "execution_count": 80,
   "metadata": {},
   "outputs": [],
   "source": [
    "def distance_to_other_clusters(single_pokemon):\n",
    "    metric = np.array(single_pokemon[['weight_kg','height_m']])\n",
    "    cluster_number = round(single_pokemon['cluster'])\n",
    "    distance = 0\n",
    "    for cluster_index in range(0, len(cls_centers)):\n",
    "        if cluster_index == cluster_number:\n",
    "            continue\n",
    "        center = cls_centers[cluster_index]\n",
    "        distance += sum(np.square(metric - center))\n",
    "    return distance\n",
    "\n",
    "# evaluate all pokemon\n",
    "pokemon_dissimilarity = pokemon_std.apply(distance_to_other_clusters, axis=1)\n",
    "pokemon_dissimilarity = pokemon_dissimilarity.rename('dissimilarity')\n",
    "\n",
    "# join to other metrics\n",
    "pokemon_processed = pokemon_std.join(pokemon_dissimilarity.to_frame()).join(df['name'].to_frame())\n",
    "\n",
    "# pick most dissimilar pokemon per cluster\n",
    "chosen_pokemon3 = pd.DataFrame()\n",
    "for cluster_index in range(0, len(cluster_centers)):\n",
    "    pokemon_cluster = pokemon_processed[pokemon_processed['cluster'] == cluster_index]\n",
    "    chosen_pokemon3 = chosen_pokemon3.append(pokemon_cluster[pokemon_cluster['dissimilarity']==pokemon_cluster['dissimilarity'].max()])"
   ]
  },
  {
   "cell_type": "code",
   "execution_count": 81,
   "metadata": {},
   "outputs": [
    {
     "data": {
      "text/html": [
       "<div>\n",
       "<style scoped>\n",
       "    .dataframe tbody tr th:only-of-type {\n",
       "        vertical-align: middle;\n",
       "    }\n",
       "\n",
       "    .dataframe tbody tr th {\n",
       "        vertical-align: top;\n",
       "    }\n",
       "\n",
       "    .dataframe thead th {\n",
       "        text-align: right;\n",
       "    }\n",
       "</style>\n",
       "<table border=\"1\" class=\"dataframe\">\n",
       "  <thead>\n",
       "    <tr style=\"text-align: right;\">\n",
       "      <th></th>\n",
       "      <th>height_m</th>\n",
       "      <th>weight_kg</th>\n",
       "      <th>hp</th>\n",
       "      <th>attack</th>\n",
       "      <th>defense</th>\n",
       "      <th>speed</th>\n",
       "      <th>cluster</th>\n",
       "      <th>dissimilarity</th>\n",
       "      <th>name</th>\n",
       "    </tr>\n",
       "  </thead>\n",
       "  <tbody>\n",
       "    <tr>\n",
       "      <th>25</th>\n",
       "      <td>-1.048727</td>\n",
       "      <td>-0.552063</td>\n",
       "      <td>-0.337101</td>\n",
       "      <td>0.222095</td>\n",
       "      <td>-0.747786</td>\n",
       "      <td>1.510514</td>\n",
       "      <td>0</td>\n",
       "      <td>3.029407e+08</td>\n",
       "      <td>Raichu</td>\n",
       "    </tr>\n",
       "    <tr>\n",
       "      <th>37</th>\n",
       "      <td>-1.048727</td>\n",
       "      <td>-0.552063</td>\n",
       "      <td>0.152062</td>\n",
       "      <td>-0.337627</td>\n",
       "      <td>0.064716</td>\n",
       "      <td>1.475921</td>\n",
       "      <td>0</td>\n",
       "      <td>3.029407e+08</td>\n",
       "      <td>Ninetales</td>\n",
       "    </tr>\n",
       "    <tr>\n",
       "      <th>50</th>\n",
       "      <td>-1.048727</td>\n",
       "      <td>-0.552063</td>\n",
       "      <td>-1.277799</td>\n",
       "      <td>0.688530</td>\n",
       "      <td>-0.422785</td>\n",
       "      <td>1.510514</td>\n",
       "      <td>0</td>\n",
       "      <td>3.029407e+08</td>\n",
       "      <td>Dugtrio</td>\n",
       "    </tr>\n",
       "    <tr>\n",
       "      <th>52</th>\n",
       "      <td>-1.048727</td>\n",
       "      <td>-0.552063</td>\n",
       "      <td>-0.148961</td>\n",
       "      <td>-0.555296</td>\n",
       "      <td>-0.422785</td>\n",
       "      <td>1.683478</td>\n",
       "      <td>0</td>\n",
       "      <td>3.029407e+08</td>\n",
       "      <td>Persian</td>\n",
       "    </tr>\n",
       "    <tr>\n",
       "      <th>719</th>\n",
       "      <td>-1.048727</td>\n",
       "      <td>-0.552063</td>\n",
       "      <td>0.415457</td>\n",
       "      <td>2.554270</td>\n",
       "      <td>-0.422785</td>\n",
       "      <td>0.472727</td>\n",
       "      <td>0</td>\n",
       "      <td>3.029407e+08</td>\n",
       "      <td>Hoopa</td>\n",
       "    </tr>\n",
       "    <tr>\n",
       "      <th>744</th>\n",
       "      <td>-1.048727</td>\n",
       "      <td>-0.552063</td>\n",
       "      <td>0.603597</td>\n",
       "      <td>1.154965</td>\n",
       "      <td>0.064716</td>\n",
       "      <td>0.541912</td>\n",
       "      <td>0</td>\n",
       "      <td>3.029407e+08</td>\n",
       "      <td>Lycanroc</td>\n",
       "    </tr>\n",
       "    <tr>\n",
       "      <th>26</th>\n",
       "      <td>-1.048727</td>\n",
       "      <td>-0.552063</td>\n",
       "      <td>-0.713380</td>\n",
       "      <td>-0.088861</td>\n",
       "      <td>0.552217</td>\n",
       "      <td>-0.910990</td>\n",
       "      <td>1</td>\n",
       "      <td>3.029407e+08</td>\n",
       "      <td>Sandshrew</td>\n",
       "    </tr>\n",
       "    <tr>\n",
       "      <th>27</th>\n",
       "      <td>-1.048727</td>\n",
       "      <td>-0.552063</td>\n",
       "      <td>0.227318</td>\n",
       "      <td>0.688530</td>\n",
       "      <td>1.527220</td>\n",
       "      <td>-0.046167</td>\n",
       "      <td>1</td>\n",
       "      <td>3.029407e+08</td>\n",
       "      <td>Sandslash</td>\n",
       "    </tr>\n",
       "    <tr>\n",
       "      <th>73</th>\n",
       "      <td>-1.048727</td>\n",
       "      <td>-0.552063</td>\n",
       "      <td>-1.089659</td>\n",
       "      <td>0.066617</td>\n",
       "      <td>0.877218</td>\n",
       "      <td>-1.602848</td>\n",
       "      <td>1</td>\n",
       "      <td>3.029407e+08</td>\n",
       "      <td>Geodude</td>\n",
       "    </tr>\n",
       "    <tr>\n",
       "      <th>74</th>\n",
       "      <td>-1.048727</td>\n",
       "      <td>-0.552063</td>\n",
       "      <td>-0.525241</td>\n",
       "      <td>0.533052</td>\n",
       "      <td>1.364719</td>\n",
       "      <td>-1.083954</td>\n",
       "      <td>1</td>\n",
       "      <td>3.029407e+08</td>\n",
       "      <td>Graveler</td>\n",
       "    </tr>\n",
       "    <tr>\n",
       "      <th>75</th>\n",
       "      <td>-1.048727</td>\n",
       "      <td>-0.552063</td>\n",
       "      <td>0.415457</td>\n",
       "      <td>1.310444</td>\n",
       "      <td>1.852220</td>\n",
       "      <td>-0.738025</td>\n",
       "      <td>1</td>\n",
       "      <td>3.029407e+08</td>\n",
       "      <td>Golem</td>\n",
       "    </tr>\n",
       "    <tr>\n",
       "      <th>104</th>\n",
       "      <td>-1.048727</td>\n",
       "      <td>-0.552063</td>\n",
       "      <td>-0.337101</td>\n",
       "      <td>0.066617</td>\n",
       "      <td>1.202219</td>\n",
       "      <td>-0.738025</td>\n",
       "      <td>1</td>\n",
       "      <td>3.029407e+08</td>\n",
       "      <td>Marowak</td>\n",
       "    </tr>\n",
       "    <tr>\n",
       "      <th>213</th>\n",
       "      <td>0.337462</td>\n",
       "      <td>-0.053924</td>\n",
       "      <td>0.415457</td>\n",
       "      <td>3.331662</td>\n",
       "      <td>1.364719</td>\n",
       "      <td>0.299762</td>\n",
       "      <td>2</td>\n",
       "      <td>3.018619e+08</td>\n",
       "      <td>Heracross</td>\n",
       "    </tr>\n",
       "    <tr>\n",
       "      <th>88</th>\n",
       "      <td>-1.048727</td>\n",
       "      <td>-0.552063</td>\n",
       "      <td>1.356155</td>\n",
       "      <td>0.844009</td>\n",
       "      <td>0.064716</td>\n",
       "      <td>-0.565061</td>\n",
       "      <td>3</td>\n",
       "      <td>3.029407e+08</td>\n",
       "      <td>Muk</td>\n",
       "    </tr>\n",
       "    <tr>\n",
       "      <th>102</th>\n",
       "      <td>-1.048727</td>\n",
       "      <td>-0.552063</td>\n",
       "      <td>0.979876</td>\n",
       "      <td>0.844009</td>\n",
       "      <td>0.389717</td>\n",
       "      <td>-0.738025</td>\n",
       "      <td>3</td>\n",
       "      <td>3.029407e+08</td>\n",
       "      <td>Exeggutor</td>\n",
       "    </tr>\n",
       "    <tr>\n",
       "      <th>789</th>\n",
       "      <td>-0.956315</td>\n",
       "      <td>8.671803</td>\n",
       "      <td>-0.976776</td>\n",
       "      <td>-1.519262</td>\n",
       "      <td>1.884720</td>\n",
       "      <td>-1.014768</td>\n",
       "      <td>4</td>\n",
       "      <td>2.976664e+08</td>\n",
       "      <td>Cosmoem</td>\n",
       "    </tr>\n",
       "    <tr>\n",
       "      <th>18</th>\n",
       "      <td>-1.048727</td>\n",
       "      <td>-0.552063</td>\n",
       "      <td>-1.465938</td>\n",
       "      <td>-0.679679</td>\n",
       "      <td>-1.235287</td>\n",
       "      <td>0.195983</td>\n",
       "      <td>5</td>\n",
       "      <td>3.029406e+08</td>\n",
       "      <td>Rattata</td>\n",
       "    </tr>\n",
       "    <tr>\n",
       "      <th>19</th>\n",
       "      <td>-1.048727</td>\n",
       "      <td>-0.552063</td>\n",
       "      <td>0.227318</td>\n",
       "      <td>-0.213244</td>\n",
       "      <td>-0.097784</td>\n",
       "      <td>0.368948</td>\n",
       "      <td>5</td>\n",
       "      <td>3.029406e+08</td>\n",
       "      <td>Raticate</td>\n",
       "    </tr>\n",
       "    <tr>\n",
       "      <th>36</th>\n",
       "      <td>-1.048727</td>\n",
       "      <td>-0.552063</td>\n",
       "      <td>-1.164915</td>\n",
       "      <td>-1.146114</td>\n",
       "      <td>-1.072787</td>\n",
       "      <td>-0.046167</td>\n",
       "      <td>5</td>\n",
       "      <td>3.029406e+08</td>\n",
       "      <td>Vulpix</td>\n",
       "    </tr>\n",
       "    <tr>\n",
       "      <th>49</th>\n",
       "      <td>-1.048727</td>\n",
       "      <td>-0.552063</td>\n",
       "      <td>-2.218497</td>\n",
       "      <td>-0.710775</td>\n",
       "      <td>-1.397787</td>\n",
       "      <td>0.818656</td>\n",
       "      <td>5</td>\n",
       "      <td>3.029406e+08</td>\n",
       "      <td>Diglett</td>\n",
       "    </tr>\n",
       "    <tr>\n",
       "      <th>51</th>\n",
       "      <td>-1.048727</td>\n",
       "      <td>-0.552063</td>\n",
       "      <td>-1.089659</td>\n",
       "      <td>-1.332688</td>\n",
       "      <td>-1.235287</td>\n",
       "      <td>0.818656</td>\n",
       "      <td>5</td>\n",
       "      <td>3.029406e+08</td>\n",
       "      <td>Meowth</td>\n",
       "    </tr>\n",
       "    <tr>\n",
       "      <th>87</th>\n",
       "      <td>-1.048727</td>\n",
       "      <td>-0.552063</td>\n",
       "      <td>0.415457</td>\n",
       "      <td>0.066617</td>\n",
       "      <td>-0.747786</td>\n",
       "      <td>-1.429883</td>\n",
       "      <td>5</td>\n",
       "      <td>3.029406e+08</td>\n",
       "      <td>Grimer</td>\n",
       "    </tr>\n",
       "  </tbody>\n",
       "</table>\n",
       "</div>"
      ],
      "text/plain": [
       "     height_m  weight_kg        hp    attack   defense     speed  cluster  \\\n",
       "25  -1.048727  -0.552063 -0.337101  0.222095 -0.747786  1.510514        0   \n",
       "37  -1.048727  -0.552063  0.152062 -0.337627  0.064716  1.475921        0   \n",
       "50  -1.048727  -0.552063 -1.277799  0.688530 -0.422785  1.510514        0   \n",
       "52  -1.048727  -0.552063 -0.148961 -0.555296 -0.422785  1.683478        0   \n",
       "719 -1.048727  -0.552063  0.415457  2.554270 -0.422785  0.472727        0   \n",
       "744 -1.048727  -0.552063  0.603597  1.154965  0.064716  0.541912        0   \n",
       "26  -1.048727  -0.552063 -0.713380 -0.088861  0.552217 -0.910990        1   \n",
       "27  -1.048727  -0.552063  0.227318  0.688530  1.527220 -0.046167        1   \n",
       "73  -1.048727  -0.552063 -1.089659  0.066617  0.877218 -1.602848        1   \n",
       "74  -1.048727  -0.552063 -0.525241  0.533052  1.364719 -1.083954        1   \n",
       "75  -1.048727  -0.552063  0.415457  1.310444  1.852220 -0.738025        1   \n",
       "104 -1.048727  -0.552063 -0.337101  0.066617  1.202219 -0.738025        1   \n",
       "213  0.337462  -0.053924  0.415457  3.331662  1.364719  0.299762        2   \n",
       "88  -1.048727  -0.552063  1.356155  0.844009  0.064716 -0.565061        3   \n",
       "102 -1.048727  -0.552063  0.979876  0.844009  0.389717 -0.738025        3   \n",
       "789 -0.956315   8.671803 -0.976776 -1.519262  1.884720 -1.014768        4   \n",
       "18  -1.048727  -0.552063 -1.465938 -0.679679 -1.235287  0.195983        5   \n",
       "19  -1.048727  -0.552063  0.227318 -0.213244 -0.097784  0.368948        5   \n",
       "36  -1.048727  -0.552063 -1.164915 -1.146114 -1.072787 -0.046167        5   \n",
       "49  -1.048727  -0.552063 -2.218497 -0.710775 -1.397787  0.818656        5   \n",
       "51  -1.048727  -0.552063 -1.089659 -1.332688 -1.235287  0.818656        5   \n",
       "87  -1.048727  -0.552063  0.415457  0.066617 -0.747786 -1.429883        5   \n",
       "\n",
       "     dissimilarity       name  \n",
       "25    3.029407e+08     Raichu  \n",
       "37    3.029407e+08  Ninetales  \n",
       "50    3.029407e+08    Dugtrio  \n",
       "52    3.029407e+08    Persian  \n",
       "719   3.029407e+08      Hoopa  \n",
       "744   3.029407e+08   Lycanroc  \n",
       "26    3.029407e+08  Sandshrew  \n",
       "27    3.029407e+08  Sandslash  \n",
       "73    3.029407e+08    Geodude  \n",
       "74    3.029407e+08   Graveler  \n",
       "75    3.029407e+08      Golem  \n",
       "104   3.029407e+08    Marowak  \n",
       "213   3.018619e+08  Heracross  \n",
       "88    3.029407e+08        Muk  \n",
       "102   3.029407e+08  Exeggutor  \n",
       "789   2.976664e+08    Cosmoem  \n",
       "18    3.029406e+08    Rattata  \n",
       "19    3.029406e+08   Raticate  \n",
       "36    3.029406e+08     Vulpix  \n",
       "49    3.029406e+08    Diglett  \n",
       "51    3.029406e+08     Meowth  \n",
       "87    3.029406e+08     Grimer  "
      ]
     },
     "execution_count": 81,
     "metadata": {},
     "output_type": "execute_result"
    }
   ],
   "source": [
    "chosen_pokemon3"
   ]
  },
  {
   "cell_type": "code",
   "execution_count": null,
   "metadata": {},
   "outputs": [],
   "source": []
  }
 ],
 "metadata": {
  "kernelspec": {
   "display_name": "Python 3",
   "language": "python",
   "name": "python3"
  },
  "language_info": {
   "codemirror_mode": {
    "name": "ipython",
    "version": 3
   },
   "file_extension": ".py",
   "mimetype": "text/x-python",
   "name": "python",
   "nbconvert_exporter": "python",
   "pygments_lexer": "ipython3",
   "version": "3.8.6"
  }
 },
 "nbformat": 4,
 "nbformat_minor": 4
}
